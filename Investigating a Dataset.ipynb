{
 "cells": [
  {
   "cell_type": "markdown",
   "metadata": {},
   "source": [
    "\n",
    "# The Impact of Socio-Economic Status on Number of Firearms in States\n",
    "\n",
    "## Table of Contents\n",
    "<ul>\n",
    "<li><a href=\"#intro\">Introduction</a></li>\n",
    "<li><a href=\"#wrangling\">Data Wrangling</a></li>\n",
    "<li><a href=\"#eda\">Exploratory Data Analysis</a></li>\n",
    "<li><a href=\"#conclusions\">Conclusions</a></li>\n",
    "</ul>"
   ]
  },
  {
   "cell_type": "markdown",
   "metadata": {},
   "source": [
    "<a id='intro'></a>\n",
    "# Introduction\n",
    "\n",
    "### Overview of Dataset\n",
    "#### Gun Data\n",
    "This data is from the FBI's National Instant Criminal Background Check System (NICS). During the purchase of a firearm, gun sellers use the NICS to ensure buyers are eligible to purchase guns. The data ranges from 1997 to 2017. It contains data for each month of each year, by state, with the columns breaking down the gun checks into permit checks, permit rechecks, type of gun sold (hangun, long_gun, other), and detail of sale (rentals, prepawn, returned, etc). There is also a 'total' column for each row. \n",
    "It should be noted that the data does not directly correlate to the number of guns purchased, but can give a general overview of the demand for guns in a state. Gun checks do not have a one-to-one connection to number of guns sold in a state.\n",
    "\n",
    "#### Census Data\n",
    "This data is U.S. census data from 2016. The data includes numerous variables, some of which include ranges of time periods. The columns include population estimates, totals and broken into groups separated by age, ethnicity, and gender. Additionally, data about income, employment, housing, education, and businesses. There is one row for each of the fifty states. We will pay particular attention to the poverty percentage in order to address our key questions to analyze the relationship between firearm checks and socio-economic status. According to the U.S. Census Bureau, the poverty threshold is calculated on a yearly basis and takes into consideration age, the size of the household, and number of children. The poverty threshold is the same for all states.\n",
    "\n",
    "\n",
    "### Key Questions\n",
    " - How does poverty correlate to the number of firearm checks in a state? \n",
    " - What economic commonalities do states with higher levels of firearm checks share?\n",
    "\n",
    "In order to answer these questions, I will be focusing on the income and employment census data. Because the census data is from 2016, and the data covers a range from 2011-2015, I will be focusing on that time range from the gun data. \n"
   ]
  },
  {
   "cell_type": "code",
   "execution_count": 1,
   "metadata": {},
   "outputs": [],
   "source": [
    "# Import packages.\n",
    "%matplotlib inline\n",
    "import pandas as pd\n",
    "import numpy as np\n",
    "import seaborn as sns\n",
    "import matplotlib.pyplot as plt\n"
   ]
  },
  {
   "cell_type": "markdown",
   "metadata": {},
   "source": [
    "<a id='wrangling'></a>\n",
    "## Data Wrangling\n",
    "\n",
    "This section will include exploring,cleaning, and streamling the data to prepare for analysis. For each set, I will import the data into a dataframe and wrangle the data separately. Once both data sets are cleaned and irrelevant data eliminated, I will merge the data into a single data frame before moving into Exploratory Data Analysis."
   ]
  },
  {
   "cell_type": "code",
   "execution_count": 2,
   "metadata": {
    "scrolled": false
   },
   "outputs": [
    {
     "data": {
      "text/html": [
       "<div>\n",
       "<style scoped>\n",
       "    .dataframe tbody tr th:only-of-type {\n",
       "        vertical-align: middle;\n",
       "    }\n",
       "\n",
       "    .dataframe tbody tr th {\n",
       "        vertical-align: top;\n",
       "    }\n",
       "\n",
       "    .dataframe thead th {\n",
       "        text-align: right;\n",
       "    }\n",
       "</style>\n",
       "<table border=\"1\" class=\"dataframe\">\n",
       "  <thead>\n",
       "    <tr style=\"text-align: right;\">\n",
       "      <th></th>\n",
       "      <th>Fact</th>\n",
       "      <th>Fact Note</th>\n",
       "      <th>Alabama</th>\n",
       "      <th>Alaska</th>\n",
       "      <th>Arizona</th>\n",
       "      <th>Arkansas</th>\n",
       "      <th>California</th>\n",
       "      <th>Colorado</th>\n",
       "      <th>Connecticut</th>\n",
       "      <th>Delaware</th>\n",
       "      <th>...</th>\n",
       "      <th>South Dakota</th>\n",
       "      <th>Tennessee</th>\n",
       "      <th>Texas</th>\n",
       "      <th>Utah</th>\n",
       "      <th>Vermont</th>\n",
       "      <th>Virginia</th>\n",
       "      <th>Washington</th>\n",
       "      <th>West Virginia</th>\n",
       "      <th>Wisconsin</th>\n",
       "      <th>Wyoming</th>\n",
       "    </tr>\n",
       "  </thead>\n",
       "  <tbody>\n",
       "    <tr>\n",
       "      <th>0</th>\n",
       "      <td>Population estimates, July 1, 2016,  (V2016)</td>\n",
       "      <td>NaN</td>\n",
       "      <td>4,863,300</td>\n",
       "      <td>741,894</td>\n",
       "      <td>6,931,071</td>\n",
       "      <td>2,988,248</td>\n",
       "      <td>39,250,017</td>\n",
       "      <td>5,540,545</td>\n",
       "      <td>3,576,452</td>\n",
       "      <td>952,065</td>\n",
       "      <td>...</td>\n",
       "      <td>865454</td>\n",
       "      <td>6651194</td>\n",
       "      <td>27,862,596</td>\n",
       "      <td>3,051,217</td>\n",
       "      <td>624,594</td>\n",
       "      <td>8,411,808</td>\n",
       "      <td>7,288,000</td>\n",
       "      <td>1,831,102</td>\n",
       "      <td>5,778,708</td>\n",
       "      <td>585,501</td>\n",
       "    </tr>\n",
       "    <tr>\n",
       "      <th>1</th>\n",
       "      <td>Population estimates base, April 1, 2010,  (V2...</td>\n",
       "      <td>NaN</td>\n",
       "      <td>4,780,131</td>\n",
       "      <td>710,249</td>\n",
       "      <td>6,392,301</td>\n",
       "      <td>2,916,025</td>\n",
       "      <td>37,254,522</td>\n",
       "      <td>5,029,324</td>\n",
       "      <td>3,574,114</td>\n",
       "      <td>897,936</td>\n",
       "      <td>...</td>\n",
       "      <td>814195</td>\n",
       "      <td>6346298</td>\n",
       "      <td>25,146,100</td>\n",
       "      <td>2,763,888</td>\n",
       "      <td>625,741</td>\n",
       "      <td>8,001,041</td>\n",
       "      <td>6,724,545</td>\n",
       "      <td>1,853,011</td>\n",
       "      <td>5,687,289</td>\n",
       "      <td>563,767</td>\n",
       "    </tr>\n",
       "    <tr>\n",
       "      <th>2</th>\n",
       "      <td>Population, percent change - April 1, 2010 (es...</td>\n",
       "      <td>NaN</td>\n",
       "      <td>1.70%</td>\n",
       "      <td>4.50%</td>\n",
       "      <td>8.40%</td>\n",
       "      <td>2.50%</td>\n",
       "      <td>5.40%</td>\n",
       "      <td>10.20%</td>\n",
       "      <td>0.10%</td>\n",
       "      <td>6.00%</td>\n",
       "      <td>...</td>\n",
       "      <td>0.063</td>\n",
       "      <td>0.048</td>\n",
       "      <td>10.80%</td>\n",
       "      <td>10.40%</td>\n",
       "      <td>-0.20%</td>\n",
       "      <td>5.10%</td>\n",
       "      <td>8.40%</td>\n",
       "      <td>-1.20%</td>\n",
       "      <td>1.60%</td>\n",
       "      <td>3.90%</td>\n",
       "    </tr>\n",
       "    <tr>\n",
       "      <th>3</th>\n",
       "      <td>Population, Census, April 1, 2010</td>\n",
       "      <td>NaN</td>\n",
       "      <td>4,779,736</td>\n",
       "      <td>710,231</td>\n",
       "      <td>6,392,017</td>\n",
       "      <td>2,915,918</td>\n",
       "      <td>37,253,956</td>\n",
       "      <td>5,029,196</td>\n",
       "      <td>3,574,097</td>\n",
       "      <td>897,934</td>\n",
       "      <td>...</td>\n",
       "      <td>814180</td>\n",
       "      <td>6346105</td>\n",
       "      <td>25,145,561</td>\n",
       "      <td>2,763,885</td>\n",
       "      <td>625,741</td>\n",
       "      <td>8,001,024</td>\n",
       "      <td>6,724,540</td>\n",
       "      <td>1,852,994</td>\n",
       "      <td>5,686,986</td>\n",
       "      <td>563,626</td>\n",
       "    </tr>\n",
       "    <tr>\n",
       "      <th>4</th>\n",
       "      <td>Persons under 5 years, percent, July 1, 2016, ...</td>\n",
       "      <td>NaN</td>\n",
       "      <td>6.00%</td>\n",
       "      <td>7.30%</td>\n",
       "      <td>6.30%</td>\n",
       "      <td>6.40%</td>\n",
       "      <td>6.30%</td>\n",
       "      <td>6.10%</td>\n",
       "      <td>5.20%</td>\n",
       "      <td>5.80%</td>\n",
       "      <td>...</td>\n",
       "      <td>0.071</td>\n",
       "      <td>0.061</td>\n",
       "      <td>7.20%</td>\n",
       "      <td>8.30%</td>\n",
       "      <td>4.90%</td>\n",
       "      <td>6.10%</td>\n",
       "      <td>6.20%</td>\n",
       "      <td>5.50%</td>\n",
       "      <td>5.80%</td>\n",
       "      <td>6.50%</td>\n",
       "    </tr>\n",
       "  </tbody>\n",
       "</table>\n",
       "<p>5 rows × 52 columns</p>\n",
       "</div>"
      ],
      "text/plain": [
       "                                                Fact Fact Note    Alabama  \\\n",
       "0       Population estimates, July 1, 2016,  (V2016)       NaN  4,863,300   \n",
       "1  Population estimates base, April 1, 2010,  (V2...       NaN  4,780,131   \n",
       "2  Population, percent change - April 1, 2010 (es...       NaN      1.70%   \n",
       "3                  Population, Census, April 1, 2010       NaN  4,779,736   \n",
       "4  Persons under 5 years, percent, July 1, 2016, ...       NaN      6.00%   \n",
       "\n",
       "    Alaska    Arizona   Arkansas  California   Colorado Connecticut Delaware  \\\n",
       "0  741,894  6,931,071  2,988,248  39,250,017  5,540,545   3,576,452  952,065   \n",
       "1  710,249  6,392,301  2,916,025  37,254,522  5,029,324   3,574,114  897,936   \n",
       "2    4.50%      8.40%      2.50%       5.40%     10.20%       0.10%    6.00%   \n",
       "3  710,231  6,392,017  2,915,918  37,253,956  5,029,196   3,574,097  897,934   \n",
       "4    7.30%      6.30%      6.40%       6.30%      6.10%       5.20%    5.80%   \n",
       "\n",
       "   ... South Dakota Tennessee       Texas       Utah  Vermont   Virginia  \\\n",
       "0  ...       865454   6651194  27,862,596  3,051,217  624,594  8,411,808   \n",
       "1  ...       814195   6346298  25,146,100  2,763,888  625,741  8,001,041   \n",
       "2  ...        0.063     0.048      10.80%     10.40%   -0.20%      5.10%   \n",
       "3  ...       814180   6346105  25,145,561  2,763,885  625,741  8,001,024   \n",
       "4  ...        0.071     0.061       7.20%      8.30%    4.90%      6.10%   \n",
       "\n",
       "  Washington West Virginia  Wisconsin  Wyoming  \n",
       "0  7,288,000     1,831,102  5,778,708  585,501  \n",
       "1  6,724,545     1,853,011  5,687,289  563,767  \n",
       "2      8.40%        -1.20%      1.60%    3.90%  \n",
       "3  6,724,540     1,852,994  5,686,986  563,626  \n",
       "4      6.20%         5.50%      5.80%    6.50%  \n",
       "\n",
       "[5 rows x 52 columns]"
      ]
     },
     "execution_count": 2,
     "metadata": {},
     "output_type": "execute_result"
    }
   ],
   "source": [
    "# Import census data into a dataframe and take an inital look at what is contained.\n",
    "df_census = pd.read_csv('US_Census_Data.csv')\n",
    "df_census.head()"
   ]
  },
  {
   "cell_type": "code",
   "execution_count": 3,
   "metadata": {},
   "outputs": [
    {
     "name": "stdout",
     "output_type": "stream",
     "text": [
      "<class 'pandas.core.frame.DataFrame'>\n",
      "RangeIndex: 85 entries, 0 to 84\n",
      "Data columns (total 52 columns):\n",
      " #   Column          Non-Null Count  Dtype \n",
      "---  ------          --------------  ----- \n",
      " 0   Fact            80 non-null     object\n",
      " 1   Fact Note       28 non-null     object\n",
      " 2   Alabama         65 non-null     object\n",
      " 3   Alaska          65 non-null     object\n",
      " 4   Arizona         65 non-null     object\n",
      " 5   Arkansas        65 non-null     object\n",
      " 6   California      65 non-null     object\n",
      " 7   Colorado        65 non-null     object\n",
      " 8   Connecticut     65 non-null     object\n",
      " 9   Delaware        65 non-null     object\n",
      " 10  Florida         65 non-null     object\n",
      " 11  Georgia         65 non-null     object\n",
      " 12  Hawaii          65 non-null     object\n",
      " 13  Idaho           65 non-null     object\n",
      " 14  Illinois        65 non-null     object\n",
      " 15  Indiana         65 non-null     object\n",
      " 16  Iowa            65 non-null     object\n",
      " 17  Kansas          65 non-null     object\n",
      " 18  Kentucky        65 non-null     object\n",
      " 19  Louisiana       65 non-null     object\n",
      " 20  Maine           65 non-null     object\n",
      " 21  Maryland        65 non-null     object\n",
      " 22  Massachusetts   65 non-null     object\n",
      " 23  Michigan        65 non-null     object\n",
      " 24  Minnesota       65 non-null     object\n",
      " 25  Mississippi     65 non-null     object\n",
      " 26  Missouri        65 non-null     object\n",
      " 27  Montana         65 non-null     object\n",
      " 28  Nebraska        65 non-null     object\n",
      " 29  Nevada          65 non-null     object\n",
      " 30  New Hampshire   65 non-null     object\n",
      " 31  New Jersey      65 non-null     object\n",
      " 32  New Mexico      65 non-null     object\n",
      " 33  New York        65 non-null     object\n",
      " 34  North Carolina  65 non-null     object\n",
      " 35  North Dakota    65 non-null     object\n",
      " 36  Ohio            65 non-null     object\n",
      " 37  Oklahoma        65 non-null     object\n",
      " 38  Oregon          65 non-null     object\n",
      " 39  Pennsylvania    65 non-null     object\n",
      " 40  Rhode Island    65 non-null     object\n",
      " 41  South Carolina  65 non-null     object\n",
      " 42  South Dakota    65 non-null     object\n",
      " 43  Tennessee       65 non-null     object\n",
      " 44  Texas           65 non-null     object\n",
      " 45  Utah            65 non-null     object\n",
      " 46  Vermont         65 non-null     object\n",
      " 47  Virginia        65 non-null     object\n",
      " 48  Washington      65 non-null     object\n",
      " 49  West Virginia   65 non-null     object\n",
      " 50  Wisconsin       65 non-null     object\n",
      " 51  Wyoming         65 non-null     object\n",
      "dtypes: object(52)\n",
      "memory usage: 34.7+ KB\n"
     ]
    }
   ],
   "source": [
    "# Use 'info' to better understand format of data and data types.\n",
    "df_census.info()"
   ]
  },
  {
   "cell_type": "code",
   "execution_count": 4,
   "metadata": {},
   "outputs": [
    {
     "data": {
      "text/plain": [
       "array(['Population estimates, July 1, 2016,  (V2016)',\n",
       "       'Population estimates base, April 1, 2010,  (V2016)',\n",
       "       'Population, percent change - April 1, 2010 (estimates base) to July 1, 2016,  (V2016)',\n",
       "       'Population, Census, April 1, 2010',\n",
       "       'Persons under 5 years, percent, July 1, 2016,  (V2016)',\n",
       "       'Persons under 5 years, percent, April 1, 2010',\n",
       "       'Persons under 18 years, percent, July 1, 2016,  (V2016)',\n",
       "       'Persons under 18 years, percent, April 1, 2010',\n",
       "       'Persons 65 years and over, percent,  July 1, 2016,  (V2016)',\n",
       "       'Persons 65 years and over, percent, April 1, 2010',\n",
       "       'Female persons, percent,  July 1, 2016,  (V2016)',\n",
       "       'Female persons, percent, April 1, 2010',\n",
       "       'White alone, percent, July 1, 2016,  (V2016)',\n",
       "       'Black or African American alone, percent, July 1, 2016,  (V2016)',\n",
       "       'American Indian and Alaska Native alone, percent, July 1, 2016,  (V2016)',\n",
       "       'Asian alone, percent, July 1, 2016,  (V2016)',\n",
       "       'Native Hawaiian and Other Pacific Islander alone, percent, July 1, 2016,  (V2016)',\n",
       "       'Two or More Races, percent, July 1, 2016,  (V2016)',\n",
       "       'Hispanic or Latino, percent, July 1, 2016,  (V2016)',\n",
       "       'White alone, not Hispanic or Latino, percent, July 1, 2016,  (V2016)',\n",
       "       'Veterans, 2011-2015', 'Foreign born persons, percent, 2011-2015',\n",
       "       'Housing units,  July 1, 2016,  (V2016)',\n",
       "       'Housing units, April 1, 2010',\n",
       "       'Owner-occupied housing unit rate, 2011-2015',\n",
       "       'Median value of owner-occupied housing units, 2011-2015',\n",
       "       'Median selected monthly owner costs -with a mortgage, 2011-2015',\n",
       "       'Median selected monthly owner costs -without a mortgage, 2011-2015',\n",
       "       'Median gross rent, 2011-2015', 'Building permits, 2016',\n",
       "       'Households, 2011-2015', 'Persons per household, 2011-2015',\n",
       "       'Living in same house 1 year ago, percent of persons age 1 year+, 2011-2015',\n",
       "       'Language other than English spoken at home, percent of persons age 5 years+, 2011-2015',\n",
       "       'High school graduate or higher, percent of persons age 25 years+, 2011-2015',\n",
       "       \"Bachelor's degree or higher, percent of persons age 25 years+, 2011-2015\",\n",
       "       'With a disability, under age 65 years, percent, 2011-2015',\n",
       "       'Persons  without health insurance, under age 65 years, percent',\n",
       "       'In civilian labor force, total, percent of population age 16 years+, 2011-2015',\n",
       "       'In civilian labor force, female, percent of population age 16 years+, 2011-2015',\n",
       "       'Total accommodation and food services sales, 2012 ($1,000)',\n",
       "       'Total health care and social assistance receipts/revenue, 2012 ($1,000)',\n",
       "       'Total manufacturers shipments, 2012 ($1,000)',\n",
       "       'Total merchant wholesaler sales, 2012 ($1,000)',\n",
       "       'Total retail sales, 2012 ($1,000)',\n",
       "       'Total retail sales per capita, 2012',\n",
       "       'Mean travel time to work (minutes), workers age 16 years+, 2011-2015',\n",
       "       'Median household income (in 2015 dollars), 2011-2015',\n",
       "       'Per capita income in past 12 months (in 2015 dollars), 2011-2015',\n",
       "       'Persons in poverty, percent',\n",
       "       'Total employer establishments, 2015', 'Total employment, 2015',\n",
       "       'Total annual payroll, 2015 ($1,000)',\n",
       "       'Total employment, percent change, 2014-2015',\n",
       "       'Total nonemployer establishments, 2015', 'All firms, 2012',\n",
       "       'Men-owned firms, 2012', 'Women-owned firms, 2012',\n",
       "       'Minority-owned firms, 2012', 'Nonminority-owned firms, 2012',\n",
       "       'Veteran-owned firms, 2012', 'Nonveteran-owned firms, 2012',\n",
       "       'Population per square mile, 2010',\n",
       "       'Land area in square miles, 2010', 'FIPS Code', nan,\n",
       "       'NOTE: FIPS Code values are enclosed in quotes to ensure leading zeros remain intact.',\n",
       "       'Value Notes', '1', 'Fact Notes', '(a)', '(b)', '(c)',\n",
       "       'Value Flags', '-', 'D', 'F', 'FN', 'S', 'X', 'Z'], dtype=object)"
      ]
     },
     "execution_count": 4,
     "metadata": {},
     "output_type": "execute_result"
    }
   ],
   "source": [
    "# Used 'unique' function to see what information is contained in the dataframe.\n",
    "df_census.Fact.unique()"
   ]
  },
  {
   "cell_type": "markdown",
   "metadata": {},
   "source": [
    "\n",
    "\n",
    "## Data Cleaning - Census Data\n",
    "\n"
   ]
  },
  {
   "cell_type": "code",
   "execution_count": 5,
   "metadata": {},
   "outputs": [],
   "source": [
    "# Drop 'Fact Note' because it contains a majority null rows and no relevent data.\n",
    "df_census.drop('Fact Note', axis=1, inplace=True);"
   ]
  },
  {
   "cell_type": "code",
   "execution_count": 6,
   "metadata": {},
   "outputs": [],
   "source": [
    "# Drop null rows.\n",
    "df_census.dropna(inplace=True)"
   ]
  },
  {
   "cell_type": "markdown",
   "metadata": {},
   "source": [
    "### Eliminate irrelevant data\n",
    "Because our question focuses on the relationship between gun ownership and socio-economic status, much of the data contained in the dataframe 'df_census' is not relevant. To make the data more readable, I will keep only the necessary data for our analysis. \n",
    "\n",
    "To keep a narrow focus, I am only keeping the following data:\n",
    " - Population estimates, July 1, 2016\n",
    " - Median household income (in 2015 dollars), 2011-2015\n",
    " - High school graduate or higher, percent of persons age 25 years+, 2011-2015\n",
    " - Persons in poverty, percent\n",
    " - Total employment, percent change, 2014-2015\n",
    "\n"
   ]
  },
  {
   "cell_type": "code",
   "execution_count": 7,
   "metadata": {},
   "outputs": [],
   "source": [
    "# Keep only the necessary columns for our analysis.\n",
    "df_census_v2 = df_census[df_census['Fact'].isin(['Population estimates, July 1, 2016,  (V2016)','Median household income (in 2015 dollars), 2011-2015','High school graduate or higher, percent of persons age 25 years+, 2011-2015', 'Persons in poverty, percent','Total employment, percent change, 2014-2015'])]"
   ]
  },
  {
   "cell_type": "code",
   "execution_count": 8,
   "metadata": {},
   "outputs": [],
   "source": [
    "# Set 'Fact' as index.\n",
    "df_census_v2.set_index('Fact', inplace=True)"
   ]
  },
  {
   "cell_type": "code",
   "execution_count": 9,
   "metadata": {},
   "outputs": [
    {
     "data": {
      "text/html": [
       "<div>\n",
       "<style scoped>\n",
       "    .dataframe tbody tr th:only-of-type {\n",
       "        vertical-align: middle;\n",
       "    }\n",
       "\n",
       "    .dataframe tbody tr th {\n",
       "        vertical-align: top;\n",
       "    }\n",
       "\n",
       "    .dataframe thead th {\n",
       "        text-align: right;\n",
       "    }\n",
       "</style>\n",
       "<table border=\"1\" class=\"dataframe\">\n",
       "  <thead>\n",
       "    <tr style=\"text-align: right;\">\n",
       "      <th>Fact</th>\n",
       "      <th>Population estimates, July 1, 2016,  (V2016)</th>\n",
       "      <th>High school graduate or higher, percent of persons age 25 years+, 2011-2015</th>\n",
       "      <th>Median household income (in 2015 dollars), 2011-2015</th>\n",
       "      <th>Persons in poverty, percent</th>\n",
       "      <th>Total employment, percent change, 2014-2015</th>\n",
       "    </tr>\n",
       "  </thead>\n",
       "  <tbody>\n",
       "    <tr>\n",
       "      <th>Alabama</th>\n",
       "      <td>4,863,300</td>\n",
       "      <td>84.30%</td>\n",
       "      <td>$43,623</td>\n",
       "      <td>17.10%</td>\n",
       "      <td>1.90%</td>\n",
       "    </tr>\n",
       "    <tr>\n",
       "      <th>Alaska</th>\n",
       "      <td>741,894</td>\n",
       "      <td>92.10%</td>\n",
       "      <td>$72,515</td>\n",
       "      <td>9.90%</td>\n",
       "      <td>0.40%</td>\n",
       "    </tr>\n",
       "    <tr>\n",
       "      <th>Arizona</th>\n",
       "      <td>6,931,071</td>\n",
       "      <td>86.00%</td>\n",
       "      <td>$50,255</td>\n",
       "      <td>16.40%</td>\n",
       "      <td>2.40%</td>\n",
       "    </tr>\n",
       "    <tr>\n",
       "      <th>Arkansas</th>\n",
       "      <td>2,988,248</td>\n",
       "      <td>84.80%</td>\n",
       "      <td>$41,371</td>\n",
       "      <td>17.20%</td>\n",
       "      <td>1.10%</td>\n",
       "    </tr>\n",
       "    <tr>\n",
       "      <th>California</th>\n",
       "      <td>39,250,017</td>\n",
       "      <td>81.80%</td>\n",
       "      <td>$61,818</td>\n",
       "      <td>14.30%</td>\n",
       "      <td>3.50%</td>\n",
       "    </tr>\n",
       "  </tbody>\n",
       "</table>\n",
       "</div>"
      ],
      "text/plain": [
       "Fact       Population estimates, July 1, 2016,  (V2016)  \\\n",
       "Alabama                                       4,863,300   \n",
       "Alaska                                          741,894   \n",
       "Arizona                                       6,931,071   \n",
       "Arkansas                                      2,988,248   \n",
       "California                                   39,250,017   \n",
       "\n",
       "Fact       High school graduate or higher, percent of persons age 25 years+, 2011-2015  \\\n",
       "Alabama                                                84.30%                            \n",
       "Alaska                                                 92.10%                            \n",
       "Arizona                                                86.00%                            \n",
       "Arkansas                                               84.80%                            \n",
       "California                                             81.80%                            \n",
       "\n",
       "Fact       Median household income (in 2015 dollars), 2011-2015  \\\n",
       "Alabama                                              $43,623      \n",
       "Alaska                                               $72,515      \n",
       "Arizona                                              $50,255      \n",
       "Arkansas                                             $41,371      \n",
       "California                                           $61,818      \n",
       "\n",
       "Fact       Persons in poverty, percent  \\\n",
       "Alabama                         17.10%   \n",
       "Alaska                           9.90%   \n",
       "Arizona                         16.40%   \n",
       "Arkansas                        17.20%   \n",
       "California                      14.30%   \n",
       "\n",
       "Fact       Total employment, percent change, 2014-2015  \n",
       "Alabama                                          1.90%  \n",
       "Alaska                                           0.40%  \n",
       "Arizona                                          2.40%  \n",
       "Arkansas                                         1.10%  \n",
       "California                                       3.50%  "
      ]
     },
     "execution_count": 9,
     "metadata": {},
     "output_type": "execute_result"
    }
   ],
   "source": [
    "# Transpose census data.\n",
    "df_census_v3 = df_census_v2.transpose()\n",
    "df_census_v3.head()"
   ]
  },
  {
   "cell_type": "code",
   "execution_count": 10,
   "metadata": {},
   "outputs": [
    {
     "data": {
      "text/html": [
       "<div>\n",
       "<style scoped>\n",
       "    .dataframe tbody tr th:only-of-type {\n",
       "        vertical-align: middle;\n",
       "    }\n",
       "\n",
       "    .dataframe tbody tr th {\n",
       "        vertical-align: top;\n",
       "    }\n",
       "\n",
       "    .dataframe thead th {\n",
       "        text-align: right;\n",
       "    }\n",
       "</style>\n",
       "<table border=\"1\" class=\"dataframe\">\n",
       "  <thead>\n",
       "    <tr style=\"text-align: right;\">\n",
       "      <th>Fact</th>\n",
       "      <th>population</th>\n",
       "      <th>hs_grad_percent</th>\n",
       "      <th>median_household_income</th>\n",
       "      <th>poverty_percent</th>\n",
       "      <th>employment_percent_change</th>\n",
       "    </tr>\n",
       "  </thead>\n",
       "  <tbody>\n",
       "    <tr>\n",
       "      <th>Alabama</th>\n",
       "      <td>4,863,300</td>\n",
       "      <td>84.30%</td>\n",
       "      <td>$43,623</td>\n",
       "      <td>17.10%</td>\n",
       "      <td>1.90%</td>\n",
       "    </tr>\n",
       "    <tr>\n",
       "      <th>Alaska</th>\n",
       "      <td>741,894</td>\n",
       "      <td>92.10%</td>\n",
       "      <td>$72,515</td>\n",
       "      <td>9.90%</td>\n",
       "      <td>0.40%</td>\n",
       "    </tr>\n",
       "    <tr>\n",
       "      <th>Arizona</th>\n",
       "      <td>6,931,071</td>\n",
       "      <td>86.00%</td>\n",
       "      <td>$50,255</td>\n",
       "      <td>16.40%</td>\n",
       "      <td>2.40%</td>\n",
       "    </tr>\n",
       "    <tr>\n",
       "      <th>Arkansas</th>\n",
       "      <td>2,988,248</td>\n",
       "      <td>84.80%</td>\n",
       "      <td>$41,371</td>\n",
       "      <td>17.20%</td>\n",
       "      <td>1.10%</td>\n",
       "    </tr>\n",
       "    <tr>\n",
       "      <th>California</th>\n",
       "      <td>39,250,017</td>\n",
       "      <td>81.80%</td>\n",
       "      <td>$61,818</td>\n",
       "      <td>14.30%</td>\n",
       "      <td>3.50%</td>\n",
       "    </tr>\n",
       "  </tbody>\n",
       "</table>\n",
       "</div>"
      ],
      "text/plain": [
       "Fact        population hs_grad_percent median_household_income  \\\n",
       "Alabama      4,863,300          84.30%                $43,623    \n",
       "Alaska         741,894          92.10%                $72,515    \n",
       "Arizona      6,931,071          86.00%                $50,255    \n",
       "Arkansas     2,988,248          84.80%                $41,371    \n",
       "California  39,250,017          81.80%                $61,818    \n",
       "\n",
       "Fact       poverty_percent employment_percent_change  \n",
       "Alabama             17.10%                     1.90%  \n",
       "Alaska               9.90%                     0.40%  \n",
       "Arizona             16.40%                     2.40%  \n",
       "Arkansas            17.20%                     1.10%  \n",
       "California          14.30%                     3.50%  "
      ]
     },
     "execution_count": 10,
     "metadata": {},
     "output_type": "execute_result"
    }
   ],
   "source": [
    "# Rename the columns.\n",
    "df_census_v3.rename(columns = {'Population estimates, July 1, 2016,  (V2016)':'population','High school graduate or higher, percent of persons age 25 years+, 2011-2015':'hs_grad_percent','Median household income (in 2015 dollars), 2011-2015':'median_household_income', 'Persons in poverty, percent':'poverty_percent','Total employment, percent change, 2014-2015':'employment_percent_change' },inplace=True)\n",
    "df_census_v3.head()\n"
   ]
  },
  {
   "cell_type": "markdown",
   "metadata": {},
   "source": [
    "### Fix data types\n"
   ]
  },
  {
   "cell_type": "code",
   "execution_count": 11,
   "metadata": {},
   "outputs": [],
   "source": [
    "# Drop all commas from median_household_income.\n",
    "df_census_v3['median_household_income']= df_census_v3['median_household_income'].str.replace(',','')"
   ]
  },
  {
   "cell_type": "code",
   "execution_count": 12,
   "metadata": {},
   "outputs": [
    {
     "name": "stdout",
     "output_type": "stream",
     "text": [
      "<class 'pandas.core.frame.DataFrame'>\n",
      "Index: 50 entries, Alabama to Wyoming\n",
      "Data columns (total 5 columns):\n",
      " #   Column                     Non-Null Count  Dtype \n",
      "---  ------                     --------------  ----- \n",
      " 0   population                 50 non-null     object\n",
      " 1   hs_grad_percent            50 non-null     object\n",
      " 2   median_household_income    50 non-null     int64 \n",
      " 3   poverty_percent            50 non-null     object\n",
      " 4   employment_percent_change  50 non-null     object\n",
      "dtypes: int64(1), object(4)\n",
      "memory usage: 2.3+ KB\n"
     ]
    }
   ],
   "source": [
    "# Extract integers so that the data in median_household_income are now integers.\n",
    "df_census_v3['median_household_income'] = df_census_v3['median_household_income'].str.extract('(\\d+)').astype(int)\n",
    "df_census_v3.info()"
   ]
  },
  {
   "cell_type": "code",
   "execution_count": 13,
   "metadata": {},
   "outputs": [],
   "source": [
    "# Remove periods from the percents that are expressed as decimals\n",
    "df_census_v3['hs_grad_percent'] = df_census_v3['hs_grad_percent'].str.replace('%','', regex=True)\n",
    "df_census_v3['poverty_percent'] = df_census_v3['poverty_percent'].str.replace('%','', regex=True)\n",
    "df_census_v3['employment_percent_change'] = df_census_v3['employment_percent_change'].str.replace('%','', regex=True);"
   ]
  },
  {
   "cell_type": "code",
   "execution_count": 14,
   "metadata": {},
   "outputs": [],
   "source": [
    "# Remove commas from population and reformat as integer.\n",
    "df_census_v3['population'] = df_census_v3['population'].str.replace(',','', regex=True)\n",
    "df_census_v3['population'] = df_census_v3.population.astype(int)"
   ]
  },
  {
   "cell_type": "code",
   "execution_count": 15,
   "metadata": {},
   "outputs": [],
   "source": [
    "# Replace rows with decimal notation to a percentage between 1 and 100.\n",
    "grad_percent = df_census_v3.hs_grad_percent.astype(float) \n",
    "grad_percent[30:42] = grad_percent[30:42] * 100\n",
    "df_census_v3['hs_grad_percent'] = grad_percent;"
   ]
  },
  {
   "cell_type": "code",
   "execution_count": 16,
   "metadata": {},
   "outputs": [],
   "source": [
    "# Replace rows with decimal notation to a percentage between 1 and 100.\n",
    "pov_percent = df_census_v3.poverty_percent.astype(float) \n",
    "pov_percent[30:42] = pov_percent[30:42] * 100\n",
    "df_census_v3['poverty_percent'] = pov_percent"
   ]
  },
  {
   "cell_type": "code",
   "execution_count": 17,
   "metadata": {},
   "outputs": [],
   "source": [
    "# Replace rows with decimal notation to a percentage between 1 and 100.\n",
    "empl_percent = df_census_v3.employment_percent_change[0:49].astype(float) \n",
    "empl_percent[30:42] = empl_percent[30:42] * 100\n",
    "df_census_v3['employment_percent_change'] = empl_percent"
   ]
  },
  {
   "cell_type": "code",
   "execution_count": 18,
   "metadata": {},
   "outputs": [
    {
     "name": "stdout",
     "output_type": "stream",
     "text": [
      "<class 'pandas.core.frame.DataFrame'>\n",
      "Index: 50 entries, Alabama to Wyoming\n",
      "Data columns (total 5 columns):\n",
      " #   Column                     Non-Null Count  Dtype  \n",
      "---  ------                     --------------  -----  \n",
      " 0   population                 50 non-null     int64  \n",
      " 1   hs_grad_percent            50 non-null     float64\n",
      " 2   median_household_income    50 non-null     int64  \n",
      " 3   poverty_percent            50 non-null     float64\n",
      " 4   employment_percent_change  49 non-null     float64\n",
      "dtypes: float64(3), int64(2)\n",
      "memory usage: 2.3+ KB\n"
     ]
    }
   ],
   "source": [
    "# Confirm all changes.\n",
    "df_census_v3.info()"
   ]
  },
  {
   "cell_type": "code",
   "execution_count": 19,
   "metadata": {},
   "outputs": [
    {
     "data": {
      "text/html": [
       "<div>\n",
       "<style scoped>\n",
       "    .dataframe tbody tr th:only-of-type {\n",
       "        vertical-align: middle;\n",
       "    }\n",
       "\n",
       "    .dataframe tbody tr th {\n",
       "        vertical-align: top;\n",
       "    }\n",
       "\n",
       "    .dataframe thead th {\n",
       "        text-align: right;\n",
       "    }\n",
       "</style>\n",
       "<table border=\"1\" class=\"dataframe\">\n",
       "  <thead>\n",
       "    <tr style=\"text-align: right;\">\n",
       "      <th>Fact</th>\n",
       "      <th>population</th>\n",
       "      <th>hs_grad_percent</th>\n",
       "      <th>median_household_income</th>\n",
       "      <th>poverty_percent</th>\n",
       "      <th>employment_percent_change</th>\n",
       "    </tr>\n",
       "  </thead>\n",
       "  <tbody>\n",
       "    <tr>\n",
       "      <th>Alabama</th>\n",
       "      <td>4863300</td>\n",
       "      <td>84.3</td>\n",
       "      <td>43623</td>\n",
       "      <td>17.1</td>\n",
       "      <td>1.9</td>\n",
       "    </tr>\n",
       "    <tr>\n",
       "      <th>Alaska</th>\n",
       "      <td>741894</td>\n",
       "      <td>92.1</td>\n",
       "      <td>72515</td>\n",
       "      <td>9.9</td>\n",
       "      <td>0.4</td>\n",
       "    </tr>\n",
       "    <tr>\n",
       "      <th>Arizona</th>\n",
       "      <td>6931071</td>\n",
       "      <td>86.0</td>\n",
       "      <td>50255</td>\n",
       "      <td>16.4</td>\n",
       "      <td>2.4</td>\n",
       "    </tr>\n",
       "    <tr>\n",
       "      <th>Arkansas</th>\n",
       "      <td>2988248</td>\n",
       "      <td>84.8</td>\n",
       "      <td>41371</td>\n",
       "      <td>17.2</td>\n",
       "      <td>1.1</td>\n",
       "    </tr>\n",
       "    <tr>\n",
       "      <th>California</th>\n",
       "      <td>39250017</td>\n",
       "      <td>81.8</td>\n",
       "      <td>61818</td>\n",
       "      <td>14.3</td>\n",
       "      <td>3.5</td>\n",
       "    </tr>\n",
       "  </tbody>\n",
       "</table>\n",
       "</div>"
      ],
      "text/plain": [
       "Fact        population  hs_grad_percent  median_household_income  \\\n",
       "Alabama        4863300             84.3                    43623   \n",
       "Alaska          741894             92.1                    72515   \n",
       "Arizona        6931071             86.0                    50255   \n",
       "Arkansas       2988248             84.8                    41371   \n",
       "California    39250017             81.8                    61818   \n",
       "\n",
       "Fact        poverty_percent  employment_percent_change  \n",
       "Alabama                17.1                        1.9  \n",
       "Alaska                  9.9                        0.4  \n",
       "Arizona                16.4                        2.4  \n",
       "Arkansas               17.2                        1.1  \n",
       "California             14.3                        3.5  "
      ]
     },
     "execution_count": 19,
     "metadata": {},
     "output_type": "execute_result"
    }
   ],
   "source": [
    "# Confirm all changes.\n",
    "df_census_v3.head()"
   ]
  },
  {
   "cell_type": "markdown",
   "metadata": {},
   "source": [
    "## Data Cleaning - Gun Data\n"
   ]
  },
  {
   "cell_type": "code",
   "execution_count": 20,
   "metadata": {
    "scrolled": false
   },
   "outputs": [
    {
     "data": {
      "text/html": [
       "<div>\n",
       "<style scoped>\n",
       "    .dataframe tbody tr th:only-of-type {\n",
       "        vertical-align: middle;\n",
       "    }\n",
       "\n",
       "    .dataframe tbody tr th {\n",
       "        vertical-align: top;\n",
       "    }\n",
       "\n",
       "    .dataframe thead th {\n",
       "        text-align: right;\n",
       "    }\n",
       "</style>\n",
       "<table border=\"1\" class=\"dataframe\">\n",
       "  <thead>\n",
       "    <tr style=\"text-align: right;\">\n",
       "      <th></th>\n",
       "      <th>month</th>\n",
       "      <th>state</th>\n",
       "      <th>permit</th>\n",
       "      <th>permit_recheck</th>\n",
       "      <th>handgun</th>\n",
       "      <th>long_gun</th>\n",
       "      <th>other</th>\n",
       "      <th>multiple</th>\n",
       "      <th>admin</th>\n",
       "      <th>prepawn_handgun</th>\n",
       "      <th>...</th>\n",
       "      <th>returned_other</th>\n",
       "      <th>rentals_handgun</th>\n",
       "      <th>rentals_long_gun</th>\n",
       "      <th>private_sale_handgun</th>\n",
       "      <th>private_sale_long_gun</th>\n",
       "      <th>private_sale_other</th>\n",
       "      <th>return_to_seller_handgun</th>\n",
       "      <th>return_to_seller_long_gun</th>\n",
       "      <th>return_to_seller_other</th>\n",
       "      <th>totals</th>\n",
       "    </tr>\n",
       "  </thead>\n",
       "  <tbody>\n",
       "    <tr>\n",
       "      <th>0</th>\n",
       "      <td>2017-09</td>\n",
       "      <td>Alabama</td>\n",
       "      <td>16717.0</td>\n",
       "      <td>0.0</td>\n",
       "      <td>5734.0</td>\n",
       "      <td>6320.0</td>\n",
       "      <td>221.0</td>\n",
       "      <td>317</td>\n",
       "      <td>0.0</td>\n",
       "      <td>15.0</td>\n",
       "      <td>...</td>\n",
       "      <td>0.0</td>\n",
       "      <td>0.0</td>\n",
       "      <td>0.0</td>\n",
       "      <td>9.0</td>\n",
       "      <td>16.0</td>\n",
       "      <td>3.0</td>\n",
       "      <td>0.0</td>\n",
       "      <td>0.0</td>\n",
       "      <td>3.0</td>\n",
       "      <td>32019</td>\n",
       "    </tr>\n",
       "    <tr>\n",
       "      <th>1</th>\n",
       "      <td>2017-09</td>\n",
       "      <td>Alaska</td>\n",
       "      <td>209.0</td>\n",
       "      <td>2.0</td>\n",
       "      <td>2320.0</td>\n",
       "      <td>2930.0</td>\n",
       "      <td>219.0</td>\n",
       "      <td>160</td>\n",
       "      <td>0.0</td>\n",
       "      <td>5.0</td>\n",
       "      <td>...</td>\n",
       "      <td>0.0</td>\n",
       "      <td>0.0</td>\n",
       "      <td>0.0</td>\n",
       "      <td>17.0</td>\n",
       "      <td>24.0</td>\n",
       "      <td>1.0</td>\n",
       "      <td>0.0</td>\n",
       "      <td>0.0</td>\n",
       "      <td>0.0</td>\n",
       "      <td>6303</td>\n",
       "    </tr>\n",
       "    <tr>\n",
       "      <th>2</th>\n",
       "      <td>2017-09</td>\n",
       "      <td>Arizona</td>\n",
       "      <td>5069.0</td>\n",
       "      <td>382.0</td>\n",
       "      <td>11063.0</td>\n",
       "      <td>7946.0</td>\n",
       "      <td>920.0</td>\n",
       "      <td>631</td>\n",
       "      <td>0.0</td>\n",
       "      <td>13.0</td>\n",
       "      <td>...</td>\n",
       "      <td>0.0</td>\n",
       "      <td>0.0</td>\n",
       "      <td>0.0</td>\n",
       "      <td>38.0</td>\n",
       "      <td>12.0</td>\n",
       "      <td>2.0</td>\n",
       "      <td>0.0</td>\n",
       "      <td>0.0</td>\n",
       "      <td>0.0</td>\n",
       "      <td>28394</td>\n",
       "    </tr>\n",
       "    <tr>\n",
       "      <th>3</th>\n",
       "      <td>2017-09</td>\n",
       "      <td>Arkansas</td>\n",
       "      <td>2935.0</td>\n",
       "      <td>632.0</td>\n",
       "      <td>4347.0</td>\n",
       "      <td>6063.0</td>\n",
       "      <td>165.0</td>\n",
       "      <td>366</td>\n",
       "      <td>51.0</td>\n",
       "      <td>12.0</td>\n",
       "      <td>...</td>\n",
       "      <td>0.0</td>\n",
       "      <td>0.0</td>\n",
       "      <td>0.0</td>\n",
       "      <td>13.0</td>\n",
       "      <td>23.0</td>\n",
       "      <td>0.0</td>\n",
       "      <td>0.0</td>\n",
       "      <td>2.0</td>\n",
       "      <td>1.0</td>\n",
       "      <td>17747</td>\n",
       "    </tr>\n",
       "    <tr>\n",
       "      <th>4</th>\n",
       "      <td>2017-09</td>\n",
       "      <td>California</td>\n",
       "      <td>57839.0</td>\n",
       "      <td>0.0</td>\n",
       "      <td>37165.0</td>\n",
       "      <td>24581.0</td>\n",
       "      <td>2984.0</td>\n",
       "      <td>0</td>\n",
       "      <td>0.0</td>\n",
       "      <td>0.0</td>\n",
       "      <td>...</td>\n",
       "      <td>0.0</td>\n",
       "      <td>0.0</td>\n",
       "      <td>0.0</td>\n",
       "      <td>0.0</td>\n",
       "      <td>0.0</td>\n",
       "      <td>0.0</td>\n",
       "      <td>0.0</td>\n",
       "      <td>0.0</td>\n",
       "      <td>0.0</td>\n",
       "      <td>123506</td>\n",
       "    </tr>\n",
       "  </tbody>\n",
       "</table>\n",
       "<p>5 rows × 27 columns</p>\n",
       "</div>"
      ],
      "text/plain": [
       "     month       state   permit  permit_recheck  handgun  long_gun   other  \\\n",
       "0  2017-09     Alabama  16717.0             0.0   5734.0    6320.0   221.0   \n",
       "1  2017-09      Alaska    209.0             2.0   2320.0    2930.0   219.0   \n",
       "2  2017-09     Arizona   5069.0           382.0  11063.0    7946.0   920.0   \n",
       "3  2017-09    Arkansas   2935.0           632.0   4347.0    6063.0   165.0   \n",
       "4  2017-09  California  57839.0             0.0  37165.0   24581.0  2984.0   \n",
       "\n",
       "   multiple  admin  prepawn_handgun  ...  returned_other  rentals_handgun  \\\n",
       "0       317    0.0             15.0  ...             0.0              0.0   \n",
       "1       160    0.0              5.0  ...             0.0              0.0   \n",
       "2       631    0.0             13.0  ...             0.0              0.0   \n",
       "3       366   51.0             12.0  ...             0.0              0.0   \n",
       "4         0    0.0              0.0  ...             0.0              0.0   \n",
       "\n",
       "   rentals_long_gun  private_sale_handgun  private_sale_long_gun  \\\n",
       "0               0.0                   9.0                   16.0   \n",
       "1               0.0                  17.0                   24.0   \n",
       "2               0.0                  38.0                   12.0   \n",
       "3               0.0                  13.0                   23.0   \n",
       "4               0.0                   0.0                    0.0   \n",
       "\n",
       "   private_sale_other  return_to_seller_handgun  return_to_seller_long_gun  \\\n",
       "0                 3.0                       0.0                        0.0   \n",
       "1                 1.0                       0.0                        0.0   \n",
       "2                 2.0                       0.0                        0.0   \n",
       "3                 0.0                       0.0                        2.0   \n",
       "4                 0.0                       0.0                        0.0   \n",
       "\n",
       "   return_to_seller_other  totals  \n",
       "0                     3.0   32019  \n",
       "1                     0.0    6303  \n",
       "2                     0.0   28394  \n",
       "3                     1.0   17747  \n",
       "4                     0.0  123506  \n",
       "\n",
       "[5 rows x 27 columns]"
      ]
     },
     "execution_count": 20,
     "metadata": {},
     "output_type": "execute_result"
    }
   ],
   "source": [
    "# Import gun data into a dataframe.\n",
    "df_gun = pd.read_csv('gun_data.csv')\n",
    "df_gun.head()"
   ]
  },
  {
   "cell_type": "code",
   "execution_count": 21,
   "metadata": {},
   "outputs": [
    {
     "name": "stdout",
     "output_type": "stream",
     "text": [
      "<class 'pandas.core.frame.DataFrame'>\n",
      "RangeIndex: 12485 entries, 0 to 12484\n",
      "Data columns (total 27 columns):\n",
      " #   Column                     Non-Null Count  Dtype  \n",
      "---  ------                     --------------  -----  \n",
      " 0   month                      12485 non-null  object \n",
      " 1   state                      12485 non-null  object \n",
      " 2   permit                     12461 non-null  float64\n",
      " 3   permit_recheck             1100 non-null   float64\n",
      " 4   handgun                    12465 non-null  float64\n",
      " 5   long_gun                   12466 non-null  float64\n",
      " 6   other                      5500 non-null   float64\n",
      " 7   multiple                   12485 non-null  int64  \n",
      " 8   admin                      12462 non-null  float64\n",
      " 9   prepawn_handgun            10542 non-null  float64\n",
      " 10  prepawn_long_gun           10540 non-null  float64\n",
      " 11  prepawn_other              5115 non-null   float64\n",
      " 12  redemption_handgun         10545 non-null  float64\n",
      " 13  redemption_long_gun        10544 non-null  float64\n",
      " 14  redemption_other           5115 non-null   float64\n",
      " 15  returned_handgun           2200 non-null   float64\n",
      " 16  returned_long_gun          2145 non-null   float64\n",
      " 17  returned_other             1815 non-null   float64\n",
      " 18  rentals_handgun            990 non-null    float64\n",
      " 19  rentals_long_gun           825 non-null    float64\n",
      " 20  private_sale_handgun       2750 non-null   float64\n",
      " 21  private_sale_long_gun      2750 non-null   float64\n",
      " 22  private_sale_other         2750 non-null   float64\n",
      " 23  return_to_seller_handgun   2475 non-null   float64\n",
      " 24  return_to_seller_long_gun  2750 non-null   float64\n",
      " 25  return_to_seller_other     2255 non-null   float64\n",
      " 26  totals                     12485 non-null  int64  \n",
      "dtypes: float64(23), int64(2), object(2)\n",
      "memory usage: 2.6+ MB\n"
     ]
    }
   ],
   "source": [
    "# Check data types.\n",
    "df_gun.info()"
   ]
  },
  {
   "cell_type": "code",
   "execution_count": 22,
   "metadata": {},
   "outputs": [],
   "source": [
    "# Extract the year from the month column and rename column to 'year.'\n",
    "df_gun['month'] = df_gun['month'].str.extract('(\\d+)').astype(int)\n",
    "df_gun.rename(columns={'month':'year'}, inplace=True)"
   ]
  },
  {
   "cell_type": "markdown",
   "metadata": {},
   "source": [
    "### Drop irrelevant data\n",
    "\n",
    "First, I create a dataframe with only data between 2011 and 2015 to cover the same time range as the census data. Then, I extract the year, state, number of permits, and totals columns. Because we are only interested in the general trend, the type of guns being purchased are irrelevant."
   ]
  },
  {
   "cell_type": "code",
   "execution_count": 23,
   "metadata": {},
   "outputs": [],
   "source": [
    "# Query rows from years 2011 to 2015 to match census data.\n",
    "df_gun = df_gun.query('year > {}'.format(2010))\n",
    "df_gun = df_gun.query('year < {}'.format(2016))"
   ]
  },
  {
   "cell_type": "code",
   "execution_count": 24,
   "metadata": {
    "scrolled": false
   },
   "outputs": [],
   "source": [
    "# Create dataframe with only relevant columns.\n",
    "df_gun_v2 = df_gun[['year', 'state', 'permit', 'totals']]"
   ]
  },
  {
   "cell_type": "code",
   "execution_count": 25,
   "metadata": {},
   "outputs": [
    {
     "name": "stdout",
     "output_type": "stream",
     "text": [
      "<class 'pandas.core.frame.DataFrame'>\n",
      "Index: 55 entries, Alabama to Wyoming\n",
      "Data columns (total 3 columns):\n",
      " #   Column            Non-Null Count  Dtype  \n",
      "---  ------            --------------  -----  \n",
      " 0   year              55 non-null     float64\n",
      " 1   num_permits       55 non-null     float64\n",
      " 2   total_gun_checks  55 non-null     float64\n",
      "dtypes: float64(3)\n",
      "memory usage: 1.7+ KB\n"
     ]
    }
   ],
   "source": [
    "# Create dataframe with mean data for years covered by census data. \n",
    "df_gun_mean = df_gun_v2.groupby('state').mean()\n",
    "df_gun_mean.rename(columns={'permit':'num_permits', 'totals':'total_gun_checks'},inplace=True)\n",
    "df_gun_mean.info()"
   ]
  },
  {
   "cell_type": "markdown",
   "metadata": {},
   "source": [
    "### Combine data sets and clean resulting data"
   ]
  },
  {
   "cell_type": "code",
   "execution_count": 26,
   "metadata": {},
   "outputs": [
    {
     "name": "stdout",
     "output_type": "stream",
     "text": [
      "<class 'pandas.core.frame.DataFrame'>\n",
      "Index: 55 entries, Alabama to Virgin Islands\n",
      "Data columns (total 8 columns):\n",
      " #   Column                     Non-Null Count  Dtype  \n",
      "---  ------                     --------------  -----  \n",
      " 0   population                 50 non-null     float64\n",
      " 1   hs_grad_percent            50 non-null     float64\n",
      " 2   median_household_income    50 non-null     float64\n",
      " 3   poverty_percent            50 non-null     float64\n",
      " 4   employment_percent_change  49 non-null     float64\n",
      " 5   year                       55 non-null     float64\n",
      " 6   num_permits                55 non-null     float64\n",
      " 7   total_gun_checks           55 non-null     float64\n",
      "dtypes: float64(8)\n",
      "memory usage: 3.9+ KB\n"
     ]
    }
   ],
   "source": [
    "# Use 'concat' function to combine dataframe columns into a single dataframe.\n",
    "df = pd.concat([df_census_v3, df_gun_mean], axis=1) \n",
    "df.info()"
   ]
  },
  {
   "cell_type": "code",
   "execution_count": 27,
   "metadata": {},
   "outputs": [],
   "source": [
    "# Drop last five rows, which include terrorities that aren't included in the census data.\n",
    "df.drop(df.tail(5).index,inplace=True)"
   ]
  },
  {
   "cell_type": "code",
   "execution_count": 28,
   "metadata": {},
   "outputs": [],
   "source": [
    "# Replace null value in 'employment_percent_change' with the mean value.\n",
    "mean_value = df.employment_percent_change.mean()\n",
    "df.fillna(mean_value, inplace=True)"
   ]
  },
  {
   "cell_type": "code",
   "execution_count": 29,
   "metadata": {},
   "outputs": [
    {
     "data": {
      "text/html": [
       "<div>\n",
       "<style scoped>\n",
       "    .dataframe tbody tr th:only-of-type {\n",
       "        vertical-align: middle;\n",
       "    }\n",
       "\n",
       "    .dataframe tbody tr th {\n",
       "        vertical-align: top;\n",
       "    }\n",
       "\n",
       "    .dataframe thead th {\n",
       "        text-align: right;\n",
       "    }\n",
       "</style>\n",
       "<table border=\"1\" class=\"dataframe\">\n",
       "  <thead>\n",
       "    <tr style=\"text-align: right;\">\n",
       "      <th></th>\n",
       "      <th>population</th>\n",
       "      <th>hs_grad_percent</th>\n",
       "      <th>median_household_income</th>\n",
       "      <th>poverty_percent</th>\n",
       "      <th>employment_percent_change</th>\n",
       "      <th>year</th>\n",
       "      <th>num_permits</th>\n",
       "      <th>total_gun_checks</th>\n",
       "      <th>checks_per_1000</th>\n",
       "    </tr>\n",
       "  </thead>\n",
       "  <tbody>\n",
       "    <tr>\n",
       "      <th>count</th>\n",
       "      <td>5.000000e+01</td>\n",
       "      <td>50.000000</td>\n",
       "      <td>50.000000</td>\n",
       "      <td>50.000000</td>\n",
       "      <td>50.000000</td>\n",
       "      <td>50.0</td>\n",
       "      <td>50.000000</td>\n",
       "      <td>50.000000</td>\n",
       "      <td>50.000000</td>\n",
       "    </tr>\n",
       "    <tr>\n",
       "      <th>mean</th>\n",
       "      <td>6.448927e+06</td>\n",
       "      <td>88.224000</td>\n",
       "      <td>54311.860000</td>\n",
       "      <td>13.518000</td>\n",
       "      <td>2.116327</td>\n",
       "      <td>2013.0</td>\n",
       "      <td>11315.558667</td>\n",
       "      <td>33520.933333</td>\n",
       "      <td>6.390704</td>\n",
       "    </tr>\n",
       "    <tr>\n",
       "      <th>std</th>\n",
       "      <td>7.271769e+06</td>\n",
       "      <td>3.089585</td>\n",
       "      <td>8949.529115</td>\n",
       "      <td>3.019778</td>\n",
       "      <td>1.206504</td>\n",
       "      <td>0.0</td>\n",
       "      <td>26955.906365</td>\n",
       "      <td>36634.114189</td>\n",
       "      <td>6.184378</td>\n",
       "    </tr>\n",
       "    <tr>\n",
       "      <th>min</th>\n",
       "      <td>5.855010e+05</td>\n",
       "      <td>81.800000</td>\n",
       "      <td>39665.000000</td>\n",
       "      <td>7.300000</td>\n",
       "      <td>-1.700000</td>\n",
       "      <td>2013.0</td>\n",
       "      <td>0.000000</td>\n",
       "      <td>1299.900000</td>\n",
       "      <td>0.835772</td>\n",
       "    </tr>\n",
       "    <tr>\n",
       "      <th>25%</th>\n",
       "      <td>1.850106e+06</td>\n",
       "      <td>85.600000</td>\n",
       "      <td>47526.000000</td>\n",
       "      <td>11.300000</td>\n",
       "      <td>1.250000</td>\n",
       "      <td>2013.0</td>\n",
       "      <td>656.208333</td>\n",
       "      <td>10619.208333</td>\n",
       "      <td>3.853962</td>\n",
       "    </tr>\n",
       "    <tr>\n",
       "      <th>50%</th>\n",
       "      <td>4.559320e+06</td>\n",
       "      <td>88.850000</td>\n",
       "      <td>52601.000000</td>\n",
       "      <td>13.300000</td>\n",
       "      <td>2.058163</td>\n",
       "      <td>2013.0</td>\n",
       "      <td>3658.316667</td>\n",
       "      <td>23218.600000</td>\n",
       "      <td>5.615844</td>\n",
       "    </tr>\n",
       "    <tr>\n",
       "      <th>75%</th>\n",
       "      <td>7.198768e+06</td>\n",
       "      <td>90.850000</td>\n",
       "      <td>60599.000000</td>\n",
       "      <td>15.375000</td>\n",
       "      <td>2.975000</td>\n",
       "      <td>2013.0</td>\n",
       "      <td>10362.983333</td>\n",
       "      <td>40792.804167</td>\n",
       "      <td>7.268217</td>\n",
       "    </tr>\n",
       "    <tr>\n",
       "      <th>max</th>\n",
       "      <td>3.925002e+07</td>\n",
       "      <td>92.800000</td>\n",
       "      <td>74551.000000</td>\n",
       "      <td>20.800000</td>\n",
       "      <td>4.900000</td>\n",
       "      <td>2013.0</td>\n",
       "      <td>178562.016667</td>\n",
       "      <td>202651.266667</td>\n",
       "      <td>45.673305</td>\n",
       "    </tr>\n",
       "  </tbody>\n",
       "</table>\n",
       "</div>"
      ],
      "text/plain": [
       "         population  hs_grad_percent  median_household_income  \\\n",
       "count  5.000000e+01        50.000000                50.000000   \n",
       "mean   6.448927e+06        88.224000             54311.860000   \n",
       "std    7.271769e+06         3.089585              8949.529115   \n",
       "min    5.855010e+05        81.800000             39665.000000   \n",
       "25%    1.850106e+06        85.600000             47526.000000   \n",
       "50%    4.559320e+06        88.850000             52601.000000   \n",
       "75%    7.198768e+06        90.850000             60599.000000   \n",
       "max    3.925002e+07        92.800000             74551.000000   \n",
       "\n",
       "       poverty_percent  employment_percent_change    year    num_permits  \\\n",
       "count        50.000000                  50.000000    50.0      50.000000   \n",
       "mean         13.518000                   2.116327  2013.0   11315.558667   \n",
       "std           3.019778                   1.206504     0.0   26955.906365   \n",
       "min           7.300000                  -1.700000  2013.0       0.000000   \n",
       "25%          11.300000                   1.250000  2013.0     656.208333   \n",
       "50%          13.300000                   2.058163  2013.0    3658.316667   \n",
       "75%          15.375000                   2.975000  2013.0   10362.983333   \n",
       "max          20.800000                   4.900000  2013.0  178562.016667   \n",
       "\n",
       "       total_gun_checks  checks_per_1000  \n",
       "count         50.000000        50.000000  \n",
       "mean       33520.933333         6.390704  \n",
       "std        36634.114189         6.184378  \n",
       "min         1299.900000         0.835772  \n",
       "25%        10619.208333         3.853962  \n",
       "50%        23218.600000         5.615844  \n",
       "75%        40792.804167         7.268217  \n",
       "max       202651.266667        45.673305  "
      ]
     },
     "execution_count": 29,
     "metadata": {},
     "output_type": "execute_result"
    }
   ],
   "source": [
    "# Normalize 'gun_check_percent' by size of population, creating a column that includes the number of gun checks per 1000 residents.\n",
    "gun_check_percent = df['total_gun_checks'] / df['population'] * 1000\n",
    "df['checks_per_1000'] = gun_check_percent\n",
    "df.describe()"
   ]
  },
  {
   "cell_type": "markdown",
   "metadata": {},
   "source": [
    "<a id='eda'></a>\n",
    "# Exploratory Data Analysis\n",
    "\n",
    "\n",
    "## How does poverty level correlate with the number of firearm checks in a state?\n",
    "\n",
    "Before analyzing the characteristics of states with varying poverty levels, I first inspected the poverty data overall using a visualization as well as the 'describe' function."
   ]
  },
  {
   "cell_type": "code",
   "execution_count": 30,
   "metadata": {},
   "outputs": [
    {
     "data": {
      "image/png": "[encoded data removed]",
      "text/plain": [
       "<Figure size 432x288 with 1 Axes>"
      ]
     },
     "metadata": {
      "needs_background": "light"
     },
     "output_type": "display_data"
    }
   ],
   "source": [
    "# Visualize shape and spread of poverty percentage per state.\n",
    "plt.hist(df['poverty_percent'])\n",
    "plt.title('Percentage of Population in Poverty per State')\n",
    "plt.xlabel('Percentage of Population in Poverty')\n",
    "plt.ylabel('Frequency');"
   ]
  },
  {
   "cell_type": "code",
   "execution_count": 31,
   "metadata": {},
   "outputs": [
    {
     "data": {
      "text/plain": [
       "count    50.000000\n",
       "mean     13.518000\n",
       "std       3.019778\n",
       "min       7.300000\n",
       "25%      11.300000\n",
       "50%      13.300000\n",
       "75%      15.375000\n",
       "max      20.800000\n",
       "Name: poverty_percent, dtype: float64"
      ]
     },
     "execution_count": 31,
     "metadata": {},
     "output_type": "execute_result"
    }
   ],
   "source": [
    "# View statistical description of poverty percentage per state.\n",
    "df.poverty_percent.describe()"
   ]
  },
  {
   "cell_type": "markdown",
   "metadata": {},
   "source": [
    "### Inital Observations\n",
    "\n",
    "The percentage of the population in poverty appears to be approximately normally distributed with a right skew. To compare characteristics of the states with high vs. low levels of poverty, I will split the dataframe into two dataframes, one containing rows in which the 'poverty_percent'  is above or equal to the median (the top 50%) and one with the 'poverty_percent' less than the median (the bottom 50%)."
   ]
  },
  {
   "cell_type": "code",
   "execution_count": 32,
   "metadata": {},
   "outputs": [],
   "source": [
    "# Calculate median.\n",
    "pov_median = df.poverty_percent.median()"
   ]
  },
  {
   "cell_type": "code",
   "execution_count": 33,
   "metadata": {},
   "outputs": [],
   "source": [
    "# Create two dataframes to separate the top 50% and bottom 50% of states.\n",
    "high_poverty = df.query('poverty_percent >= {}'.format(pov_median))\n",
    "low_poverty = df.query('poverty_percent < {}'.format(pov_median))"
   ]
  },
  {
   "cell_type": "code",
   "execution_count": 34,
   "metadata": {},
   "outputs": [
    {
     "data": {
      "text/html": [
       "<div>\n",
       "<style scoped>\n",
       "    .dataframe tbody tr th:only-of-type {\n",
       "        vertical-align: middle;\n",
       "    }\n",
       "\n",
       "    .dataframe tbody tr th {\n",
       "        vertical-align: top;\n",
       "    }\n",
       "\n",
       "    .dataframe thead th {\n",
       "        text-align: right;\n",
       "    }\n",
       "</style>\n",
       "<table border=\"1\" class=\"dataframe\">\n",
       "  <thead>\n",
       "    <tr style=\"text-align: right;\">\n",
       "      <th></th>\n",
       "      <th>population</th>\n",
       "      <th>hs_grad_percent</th>\n",
       "      <th>median_household_income</th>\n",
       "      <th>poverty_percent</th>\n",
       "      <th>employment_percent_change</th>\n",
       "      <th>year</th>\n",
       "      <th>num_permits</th>\n",
       "      <th>total_gun_checks</th>\n",
       "      <th>checks_per_1000</th>\n",
       "    </tr>\n",
       "  </thead>\n",
       "  <tbody>\n",
       "    <tr>\n",
       "      <th>count</th>\n",
       "      <td>2.600000e+01</td>\n",
       "      <td>26.000000</td>\n",
       "      <td>26.000000</td>\n",
       "      <td>26.000000</td>\n",
       "      <td>26.000000</td>\n",
       "      <td>26.0</td>\n",
       "      <td>26.000000</td>\n",
       "      <td>26.000000</td>\n",
       "      <td>26.000000</td>\n",
       "    </tr>\n",
       "    <tr>\n",
       "      <th>mean</th>\n",
       "      <td>8.429186e+06</td>\n",
       "      <td>86.253846</td>\n",
       "      <td>48135.269231</td>\n",
       "      <td>15.838462</td>\n",
       "      <td>2.400000</td>\n",
       "      <td>2013.0</td>\n",
       "      <td>14661.385897</td>\n",
       "      <td>44121.825641</td>\n",
       "      <td>7.356480</td>\n",
       "    </tr>\n",
       "    <tr>\n",
       "      <th>std</th>\n",
       "      <td>9.080332e+06</td>\n",
       "      <td>2.806739</td>\n",
       "      <td>4971.499102</td>\n",
       "      <td>2.138799</td>\n",
       "      <td>1.343726</td>\n",
       "      <td>0.0</td>\n",
       "      <td>34987.263415</td>\n",
       "      <td>43157.979719</td>\n",
       "      <td>8.120478</td>\n",
       "    </tr>\n",
       "    <tr>\n",
       "      <th>min</th>\n",
       "      <td>8.654540e+05</td>\n",
       "      <td>81.800000</td>\n",
       "      <td>39665.000000</td>\n",
       "      <td>13.300000</td>\n",
       "      <td>-1.700000</td>\n",
       "      <td>2013.0</td>\n",
       "      <td>0.016667</td>\n",
       "      <td>7234.716667</td>\n",
       "      <td>1.413835</td>\n",
       "    </tr>\n",
       "    <tr>\n",
       "      <th>25%</th>\n",
       "      <td>2.988368e+06</td>\n",
       "      <td>84.425000</td>\n",
       "      <td>45090.000000</td>\n",
       "      <td>14.325000</td>\n",
       "      <td>1.650000</td>\n",
       "      <td>2013.0</td>\n",
       "      <td>914.370833</td>\n",
       "      <td>19235.154167</td>\n",
       "      <td>4.011730</td>\n",
       "    </tr>\n",
       "    <tr>\n",
       "      <th>50%</th>\n",
       "      <td>4.912210e+06</td>\n",
       "      <td>85.600000</td>\n",
       "      <td>47545.000000</td>\n",
       "      <td>15.350000</td>\n",
       "      <td>2.600000</td>\n",
       "      <td>2013.0</td>\n",
       "      <td>4212.591667</td>\n",
       "      <td>28359.933333</td>\n",
       "      <td>5.720048</td>\n",
       "    </tr>\n",
       "    <tr>\n",
       "      <th>75%</th>\n",
       "      <td>1.009217e+07</td>\n",
       "      <td>88.250000</td>\n",
       "      <td>50096.250000</td>\n",
       "      <td>16.925000</td>\n",
       "      <td>3.200000</td>\n",
       "      <td>2013.0</td>\n",
       "      <td>11591.533333</td>\n",
       "      <td>50565.475000</td>\n",
       "      <td>7.268217</td>\n",
       "    </tr>\n",
       "    <tr>\n",
       "      <th>max</th>\n",
       "      <td>3.925002e+07</td>\n",
       "      <td>92.800000</td>\n",
       "      <td>61818.000000</td>\n",
       "      <td>20.800000</td>\n",
       "      <td>4.500000</td>\n",
       "      <td>2013.0</td>\n",
       "      <td>178562.016667</td>\n",
       "      <td>202651.266667</td>\n",
       "      <td>45.673305</td>\n",
       "    </tr>\n",
       "  </tbody>\n",
       "</table>\n",
       "</div>"
      ],
      "text/plain": [
       "         population  hs_grad_percent  median_household_income  \\\n",
       "count  2.600000e+01        26.000000                26.000000   \n",
       "mean   8.429186e+06        86.253846             48135.269231   \n",
       "std    9.080332e+06         2.806739              4971.499102   \n",
       "min    8.654540e+05        81.800000             39665.000000   \n",
       "25%    2.988368e+06        84.425000             45090.000000   \n",
       "50%    4.912210e+06        85.600000             47545.000000   \n",
       "75%    1.009217e+07        88.250000             50096.250000   \n",
       "max    3.925002e+07        92.800000             61818.000000   \n",
       "\n",
       "       poverty_percent  employment_percent_change    year    num_permits  \\\n",
       "count        26.000000                  26.000000    26.0      26.000000   \n",
       "mean         15.838462                   2.400000  2013.0   14661.385897   \n",
       "std           2.138799                   1.343726     0.0   34987.263415   \n",
       "min          13.300000                  -1.700000  2013.0       0.016667   \n",
       "25%          14.325000                   1.650000  2013.0     914.370833   \n",
       "50%          15.350000                   2.600000  2013.0    4212.591667   \n",
       "75%          16.925000                   3.200000  2013.0   11591.533333   \n",
       "max          20.800000                   4.500000  2013.0  178562.016667   \n",
       "\n",
       "       total_gun_checks  checks_per_1000  \n",
       "count         26.000000        26.000000  \n",
       "mean       44121.825641         7.356480  \n",
       "std        43157.979719         8.120478  \n",
       "min         7234.716667         1.413835  \n",
       "25%        19235.154167         4.011730  \n",
       "50%        28359.933333         5.720048  \n",
       "75%        50565.475000         7.268217  \n",
       "max       202651.266667        45.673305  "
      ]
     },
     "execution_count": 34,
     "metadata": {},
     "output_type": "execute_result"
    }
   ],
   "source": [
    "# View statistical descriptions of states in top 50% poverty percent.\n",
    "high_poverty.describe()"
   ]
  },
  {
   "cell_type": "code",
   "execution_count": 35,
   "metadata": {
    "scrolled": true
   },
   "outputs": [
    {
     "data": {
      "image/png": "[encoded data removed]",
      "text/plain": [
       "<Figure size 432x288 with 1 Axes>"
      ]
     },
     "metadata": {
      "needs_background": "light"
     },
     "output_type": "display_data"
    }
   ],
   "source": [
    "# Visualize relationship between total firearm checks per 1000 residents and percentage of population in poverty.\n",
    "plt.scatter(high_poverty['poverty_percent'], high_poverty['checks_per_1000'])\n",
    "plt.title('Total Firearm Checks vs. Percent of Population in Poverty \\n in High Poverty States (2015)')\n",
    "plt.xlabel('Percentage of Population in Poverty')\n",
    "plt.ylabel('Total Firearm Checks \\n per 1000 Residents');"
   ]
  },
  {
   "cell_type": "code",
   "execution_count": 36,
   "metadata": {
    "scrolled": false
   },
   "outputs": [
    {
     "data": {
      "text/html": [
       "<div>\n",
       "<style scoped>\n",
       "    .dataframe tbody tr th:only-of-type {\n",
       "        vertical-align: middle;\n",
       "    }\n",
       "\n",
       "    .dataframe tbody tr th {\n",
       "        vertical-align: top;\n",
       "    }\n",
       "\n",
       "    .dataframe thead th {\n",
       "        text-align: right;\n",
       "    }\n",
       "</style>\n",
       "<table border=\"1\" class=\"dataframe\">\n",
       "  <thead>\n",
       "    <tr style=\"text-align: right;\">\n",
       "      <th></th>\n",
       "      <th>population</th>\n",
       "      <th>hs_grad_percent</th>\n",
       "      <th>median_household_income</th>\n",
       "      <th>poverty_percent</th>\n",
       "      <th>employment_percent_change</th>\n",
       "      <th>year</th>\n",
       "      <th>num_permits</th>\n",
       "      <th>total_gun_checks</th>\n",
       "      <th>checks_per_1000</th>\n",
       "    </tr>\n",
       "  </thead>\n",
       "  <tbody>\n",
       "    <tr>\n",
       "      <th>count</th>\n",
       "      <td>2.400000e+01</td>\n",
       "      <td>24.000000</td>\n",
       "      <td>24.000000</td>\n",
       "      <td>24.000000</td>\n",
       "      <td>24.000000</td>\n",
       "      <td>24.0</td>\n",
       "      <td>24.000000</td>\n",
       "      <td>24.000000</td>\n",
       "      <td>24.000000</td>\n",
       "    </tr>\n",
       "    <tr>\n",
       "      <th>mean</th>\n",
       "      <td>4.303646e+06</td>\n",
       "      <td>90.358333</td>\n",
       "      <td>61003.166667</td>\n",
       "      <td>11.004167</td>\n",
       "      <td>1.809014</td>\n",
       "      <td>2013.0</td>\n",
       "      <td>7690.912500</td>\n",
       "      <td>22036.633333</td>\n",
       "      <td>5.344448</td>\n",
       "    </tr>\n",
       "    <tr>\n",
       "      <th>std</th>\n",
       "      <td>3.714432e+06</td>\n",
       "      <td>1.622375</td>\n",
       "      <td>7343.264484</td>\n",
       "      <td>1.332040</td>\n",
       "      <td>0.974191</td>\n",
       "      <td>0.0</td>\n",
       "      <td>13823.949736</td>\n",
       "      <td>23873.203177</td>\n",
       "      <td>2.758414</td>\n",
       "    </tr>\n",
       "    <tr>\n",
       "      <th>min</th>\n",
       "      <td>5.855010e+05</td>\n",
       "      <td>86.200000</td>\n",
       "      <td>49331.000000</td>\n",
       "      <td>7.300000</td>\n",
       "      <td>0.400000</td>\n",
       "      <td>2013.0</td>\n",
       "      <td>0.000000</td>\n",
       "      <td>1299.900000</td>\n",
       "      <td>0.835772</td>\n",
       "    </tr>\n",
       "    <tr>\n",
       "      <th>25%</th>\n",
       "      <td>1.262716e+06</td>\n",
       "      <td>89.350000</td>\n",
       "      <td>54781.750000</td>\n",
       "      <td>10.125000</td>\n",
       "      <td>1.000000</td>\n",
       "      <td>2013.0</td>\n",
       "      <td>146.858333</td>\n",
       "      <td>6438.462500</td>\n",
       "      <td>3.380786</td>\n",
       "    </tr>\n",
       "    <tr>\n",
       "      <th>50%</th>\n",
       "      <td>3.092955e+06</td>\n",
       "      <td>90.700000</td>\n",
       "      <td>60569.000000</td>\n",
       "      <td>11.150000</td>\n",
       "      <td>1.650000</td>\n",
       "      <td>2013.0</td>\n",
       "      <td>2417.325000</td>\n",
       "      <td>12506.200000</td>\n",
       "      <td>5.561429</td>\n",
       "    </tr>\n",
       "    <tr>\n",
       "      <th>75%</th>\n",
       "      <td>6.215280e+06</td>\n",
       "      <td>91.625000</td>\n",
       "      <td>67225.000000</td>\n",
       "      <td>11.825000</td>\n",
       "      <td>2.225000</td>\n",
       "      <td>2013.0</td>\n",
       "      <td>9480.979167</td>\n",
       "      <td>35075.800000</td>\n",
       "      <td>7.086276</td>\n",
       "    </tr>\n",
       "    <tr>\n",
       "      <th>max</th>\n",
       "      <td>1.280154e+07</td>\n",
       "      <td>92.400000</td>\n",
       "      <td>74551.000000</td>\n",
       "      <td>13.000000</td>\n",
       "      <td>4.900000</td>\n",
       "      <td>2013.0</td>\n",
       "      <td>64249.600000</td>\n",
       "      <td>95618.833333</td>\n",
       "      <td>11.443620</td>\n",
       "    </tr>\n",
       "  </tbody>\n",
       "</table>\n",
       "</div>"
      ],
      "text/plain": [
       "         population  hs_grad_percent  median_household_income  \\\n",
       "count  2.400000e+01        24.000000                24.000000   \n",
       "mean   4.303646e+06        90.358333             61003.166667   \n",
       "std    3.714432e+06         1.622375              7343.264484   \n",
       "min    5.855010e+05        86.200000             49331.000000   \n",
       "25%    1.262716e+06        89.350000             54781.750000   \n",
       "50%    3.092955e+06        90.700000             60569.000000   \n",
       "75%    6.215280e+06        91.625000             67225.000000   \n",
       "max    1.280154e+07        92.400000             74551.000000   \n",
       "\n",
       "       poverty_percent  employment_percent_change    year   num_permits  \\\n",
       "count        24.000000                  24.000000    24.0     24.000000   \n",
       "mean         11.004167                   1.809014  2013.0   7690.912500   \n",
       "std           1.332040                   0.974191     0.0  13823.949736   \n",
       "min           7.300000                   0.400000  2013.0      0.000000   \n",
       "25%          10.125000                   1.000000  2013.0    146.858333   \n",
       "50%          11.150000                   1.650000  2013.0   2417.325000   \n",
       "75%          11.825000                   2.225000  2013.0   9480.979167   \n",
       "max          13.000000                   4.900000  2013.0  64249.600000   \n",
       "\n",
       "       total_gun_checks  checks_per_1000  \n",
       "count         24.000000        24.000000  \n",
       "mean       22036.633333         5.344448  \n",
       "std        23873.203177         2.758414  \n",
       "min         1299.900000         0.835772  \n",
       "25%         6438.462500         3.380786  \n",
       "50%        12506.200000         5.561429  \n",
       "75%        35075.800000         7.086276  \n",
       "max        95618.833333        11.443620  "
      ]
     },
     "execution_count": 36,
     "metadata": {},
     "output_type": "execute_result"
    }
   ],
   "source": [
    "# View statistical descriptions of states in bottom 50% poverty percent.\n",
    "low_poverty.describe()"
   ]
  },
  {
   "cell_type": "code",
   "execution_count": 37,
   "metadata": {
    "scrolled": true
   },
   "outputs": [
    {
     "data": {
      "image/png": "[encoded data removed]",
      "text/plain": [
       "<Figure size 432x288 with 1 Axes>"
      ]
     },
     "metadata": {
      "needs_background": "light"
     },
     "output_type": "display_data"
    }
   ],
   "source": [
    "# Visualize relationship between total firearm checks per 1000 residents and percentage of population in poverty.\n",
    "plt.scatter(low_poverty['poverty_percent'], low_poverty['checks_per_1000'])\n",
    "plt.title('Total Firearm Checks vs. Percent of Population in Poverty \\n in Low Poverty States (2015)')\n",
    "plt.xlabel('Percentage of Population in Poverty')\n",
    "plt.ylabel('Total Firearm Checks \\n per 1000 Residents')\n",
    "plt.ylim(0,50);"
   ]
  },
  {
   "cell_type": "code",
   "execution_count": 38,
   "metadata": {},
   "outputs": [],
   "source": [
    "# Create variables for the median number of firearm checks per 1000 residents for the states with high and low poverty.\n",
    "median_checks_low = low_poverty['checks_per_1000'].median()\n",
    "median_checks_high = high_poverty['checks_per_1000'].median()"
   ]
  },
  {
   "cell_type": "code",
   "execution_count": 39,
   "metadata": {
    "scrolled": true
   },
   "outputs": [
    {
     "data": {
      "image/png": "[encoded data removed]",
      "text/plain": [
       "<Figure size 432x288 with 1 Axes>"
      ]
     },
     "metadata": {
      "needs_background": "light"
     },
     "output_type": "display_data"
    }
   ],
   "source": [
    "# Visualize relationship between poverty and median total firearm checks.\n",
    "locations = [1, 2]\n",
    "heights = [median_checks_low, median_checks_high]\n",
    "labels = ['Low', 'High']\n",
    "plt.bar(locations, heights, tick_label=labels)\n",
    "plt.title('Number of Total Firearm Checks per 1000 Residents \\n in States with High vs. Low Poverty')\n",
    "plt.xlabel('Percentage of Population in Poverty')\n",
    "plt.ylabel('Median Total Firearm Checks \\n per 1000 Residents');"
   ]
  },
  {
   "cell_type": "markdown",
   "metadata": {},
   "source": [
    "### Initial Conclusions\n",
    "The mean total gun checks and mean gun checks per 1000 residents initially seem to be significantly higher in the states with high poverty. However, the max values for both total guns checks and checks per 1000 residents are extremely high in the high poverty states. In the scatterplots, we can clearly see that there is an outlier in the high poverty dataframe that is pulling the mean up. \n",
    "\n",
    "When comparing the medians of each group, we see that for most states, the number of gun checks per 1000 residents is very similar with no correlation to poverty. The standard deviation for the high poverty groups is also much larger than the low poverty states; however, this is also due to the outlier, as we can see that the spread is fairly similar in the scatterplots.\n",
    "\n",
    "To visualize the variation, I used the median number of firearm checks in order to compare without the skew from the outlier. When we do this, we can see in the chart above that there is no correlation between the number of firearm checks and the percentage of the population in poverty.\n"
   ]
  },
  {
   "cell_type": "markdown",
   "metadata": {},
   "source": [
    "### Visualizing relationship between poverty level and the number of permit checks\n",
    "\n",
    "The number of permit checks can also give us insight into the number of individuals who are purchasing or attempting to purchase firearms."
   ]
  },
  {
   "cell_type": "code",
   "execution_count": 40,
   "metadata": {},
   "outputs": [],
   "source": [
    "# Find number of permit checks per 1000 people.\n",
    "permits_per_1000_low = low_poverty['num_permits'] / low_poverty['population'] * 1000\n",
    "permits_per_1000_high = high_poverty['num_permits'] / high_poverty['population'] * 1000"
   ]
  },
  {
   "cell_type": "code",
   "execution_count": 41,
   "metadata": {},
   "outputs": [],
   "source": [
    "# Find median number of permits per 1000 residents.\n",
    "median_permits_low = permits_per_1000_low.median()\n",
    "median_permits_high = permits_per_1000_high.median()"
   ]
  },
  {
   "cell_type": "code",
   "execution_count": 42,
   "metadata": {
    "scrolled": true
   },
   "outputs": [
    {
     "data": {
      "image/png": "[encoded data removed]",
      "text/plain": [
       "<Figure size 432x288 with 1 Axes>"
      ]
     },
     "metadata": {
      "needs_background": "light"
     },
     "output_type": "display_data"
    }
   ],
   "source": [
    "# # Visualize relationship between median total permit checks per 1000 residents and population.\n",
    "locations = [1, 2]\n",
    "heights = [median_permits_low, median_permits_high]\n",
    "labels = ['Low', 'High']\n",
    "plt.bar(locations, heights, tick_label=labels)\n",
    "plt.title('Number of Total Permit Checks per 1000 Residents \\n in States with High vs. Low Poverty')\n",
    "plt.xlabel('Percentage of Population in Poverty')\n",
    "plt.ylabel('Median Total Permit Checks \\n per 1000 Residents');"
   ]
  },
  {
   "cell_type": "code",
   "execution_count": 43,
   "metadata": {},
   "outputs": [
    {
     "data": {
      "image/png": "[encoded data removed]",
      "text/plain": [
       "<Figure size 432x288 with 1 Axes>"
      ]
     },
     "metadata": {
      "needs_background": "light"
     },
     "output_type": "display_data"
    }
   ],
   "source": [
    "# Visualize relationship between total firearm checks per 1000 residents and population.\n",
    "permits_per_1000 = df['num_permits'] / df['population'] * 1000\n",
    "\n",
    "plt.scatter(df['population'], permits_per_1000)\n",
    "plt.title('Total Permit Checks vs. Percent of Population in Poverty \\n in States (2015)')\n",
    "plt.xlabel('Total Permit Checks \\n per 1000 Residents')\n",
    "plt.ylabel('Percentage of Population in Poverty');"
   ]
  },
  {
   "cell_type": "markdown",
   "metadata": {},
   "source": [
    "### Conclusion\n",
    "There is no correlation between the percentage of the population in poverty and the number of permit checks in a state. The scatterplot above shows that there is one major outlier in terms of percentage of population in poverty and a few outliers in total permit checks per 1000 residents; even in those outliers, there is no significant difference in the other variable compared to most states."
   ]
  },
  {
   "cell_type": "markdown",
   "metadata": {},
   "source": [
    "## What economic commonalities do states with higher levels of firearm checks share?"
   ]
  },
  {
   "cell_type": "code",
   "execution_count": 44,
   "metadata": {},
   "outputs": [
    {
     "data": {
      "image/png": "[encoded data removed]",
      "text/plain": [
       "<Figure size 432x288 with 1 Axes>"
      ]
     },
     "metadata": {
      "needs_background": "light"
     },
     "output_type": "display_data"
    }
   ],
   "source": [
    "# Visualize shape and spread of all gun checks before normalizing by population.\n",
    "df_gun.totals.hist();"
   ]
  },
  {
   "cell_type": "code",
   "execution_count": 45,
   "metadata": {
    "scrolled": true
   },
   "outputs": [
    {
     "data": {
      "image/png": "[encoded data removed]",
      "text/plain": [
       "<Figure size 432x288 with 1 Axes>"
      ]
     },
     "metadata": {
      "needs_background": "light"
     },
     "output_type": "display_data"
    }
   ],
   "source": [
    "# Visualize the shape and spread of firearm checks per 1000 residents.\n",
    "df.checks_per_1000.hist();"
   ]
  },
  {
   "cell_type": "markdown",
   "metadata": {},
   "source": [
    "### Description\n",
    "Once normalized for population variance, the data is skewed to the right by a single outlier. The majority of the data falls into the first two columns, meaning most states have similar numbers of firearm background checks when controlled for the number of residents. Even without normalizing for the population of the state, the data is skewed left and most data falls into the smallest bin.\n",
    "\n",
    "Because of the outlier, I will be using the median to split the data. \n",
    "\n",
    "Due to the lack of variation between states, I do not expect a significant variation in socio-economic variables."
   ]
  },
  {
   "cell_type": "code",
   "execution_count": 46,
   "metadata": {},
   "outputs": [
    {
     "data": {
      "image/png": "[encoded data removed]",
      "text/plain": [
       "<Figure size 432x288 with 1 Axes>"
      ]
     },
     "metadata": {
      "needs_background": "light"
     },
     "output_type": "display_data"
    }
   ],
   "source": [
    "# Visualize relationship between median household income and firearm checks per 1000 residents.\n",
    "plt.scatter(df['checks_per_1000'], df['median_household_income'])\n",
    "plt.title('Total Permit Checks vs. Percent of Population in Poverty \\n in States (2011-2015)')\n",
    "plt.xlabel('Total Firearm Checks \\n per 1000 Residents')\n",
    "plt.ylabel('Median Household Income (in 2015 dollars)')\n",
    "\n",
    "# Set a range for the x-axis. Outlier is discluded.\n",
    "plt.xlim(0, 15);"
   ]
  },
  {
   "cell_type": "code",
   "execution_count": 47,
   "metadata": {},
   "outputs": [
    {
     "data": {
      "image/png": "[encoded data removed]",
      "text/plain": [
       "<Figure size 432x288 with 1 Axes>"
      ]
     },
     "metadata": {
      "needs_background": "light"
     },
     "output_type": "display_data"
    }
   ],
   "source": [
    "# Visualize relationship between percent of population in poverty and firearm checks per 1000 residents.\n",
    "plt.scatter(df['checks_per_1000'], df['poverty_percent'])\n",
    "plt.title('Total Permit Checks vs. Percent of Population in Poverty \\n in States (2011-2015)')\n",
    "plt.ylabel('Percentage of Population in Poverty')\n",
    "plt.xlabel('Total Firearm Checks \\n per 1000 Residents')\n",
    "\n",
    "# Set a range for the x-axis. Outlier is discluded.\n",
    "plt.xlim(0,15);"
   ]
  },
  {
   "cell_type": "markdown",
   "metadata": {},
   "source": [
    "### Initial Observations\n",
    "\n",
    "As the scatterplots above show, there does not seem to be an economic correlation with the number of firearm checks per 1000 residents.\n",
    "\n",
    "### Comparing States with High vs. Low Levels of Firearm Checks\n",
    "\n",
    "When viewing this data, it is important to remember that there aren't significant differences in the number of firearm checks between states. States will be separated into top 50% and bottom 50% by the median, as this will be more accurate than mean due to the outlier."
   ]
  },
  {
   "cell_type": "code",
   "execution_count": 48,
   "metadata": {},
   "outputs": [
    {
     "name": "stdout",
     "output_type": "stream",
     "text": [
      "Median Number of Firearm Checks per 1000 Residents: 5.615844046676669\n",
      "Mean Number of Firearm Checks per 1000 Residents: 6.39070443549541\n"
     ]
    }
   ],
   "source": [
    "# Print median and mean for firearm checks per 1000 residents. Mean will be larger due to outlier.\n",
    "\n",
    "checks_median = df.checks_per_1000.median()\n",
    "checks_mean = df.checks_per_1000.mean()\n",
    "\n",
    "print('Median Number of Firearm Checks per 1000 Residents: {}'.format(checks_median))\n",
    "print('Mean Number of Firearm Checks per 1000 Residents: {}'.format(checks_mean))"
   ]
  },
  {
   "cell_type": "code",
   "execution_count": 49,
   "metadata": {},
   "outputs": [],
   "source": [
    "# Create dataframes for states with high numbers of firearm checks and low number of firearm checks per 1000 residents.\n",
    "high_gun_checks = df.query('checks_per_1000 >= {}'.format(checks_median))\n",
    "low_gun_checks= df.query('checks_per_1000 < {}'.format(checks_median))"
   ]
  },
  {
   "cell_type": "code",
   "execution_count": 50,
   "metadata": {
    "scrolled": false
   },
   "outputs": [
    {
     "data": {
      "text/html": [
       "<div>\n",
       "<style scoped>\n",
       "    .dataframe tbody tr th:only-of-type {\n",
       "        vertical-align: middle;\n",
       "    }\n",
       "\n",
       "    .dataframe tbody tr th {\n",
       "        vertical-align: top;\n",
       "    }\n",
       "\n",
       "    .dataframe thead th {\n",
       "        text-align: right;\n",
       "    }\n",
       "</style>\n",
       "<table border=\"1\" class=\"dataframe\">\n",
       "  <thead>\n",
       "    <tr style=\"text-align: right;\">\n",
       "      <th></th>\n",
       "      <th>population</th>\n",
       "      <th>hs_grad_percent</th>\n",
       "      <th>median_household_income</th>\n",
       "      <th>poverty_percent</th>\n",
       "      <th>employment_percent_change</th>\n",
       "      <th>year</th>\n",
       "      <th>num_permits</th>\n",
       "      <th>total_gun_checks</th>\n",
       "      <th>checks_per_1000</th>\n",
       "    </tr>\n",
       "  </thead>\n",
       "  <tbody>\n",
       "    <tr>\n",
       "      <th>count</th>\n",
       "      <td>2.500000e+01</td>\n",
       "      <td>25.000000</td>\n",
       "      <td>25.000000</td>\n",
       "      <td>25.000000</td>\n",
       "      <td>25.000000</td>\n",
       "      <td>25.0</td>\n",
       "      <td>25.000000</td>\n",
       "      <td>25.000000</td>\n",
       "      <td>25.000000</td>\n",
       "    </tr>\n",
       "    <tr>\n",
       "      <th>mean</th>\n",
       "      <td>4.189801e+06</td>\n",
       "      <td>88.404000</td>\n",
       "      <td>52644.960000</td>\n",
       "      <td>14.000000</td>\n",
       "      <td>1.924653</td>\n",
       "      <td>2013.0</td>\n",
       "      <td>15385.476667</td>\n",
       "      <td>36652.758667</td>\n",
       "      <td>9.127886</td>\n",
       "    </tr>\n",
       "    <tr>\n",
       "      <th>std</th>\n",
       "      <td>3.318593e+06</td>\n",
       "      <td>3.341217</td>\n",
       "      <td>9442.285292</td>\n",
       "      <td>3.711356</td>\n",
       "      <td>1.310401</td>\n",
       "      <td>0.0</td>\n",
       "      <td>36630.817952</td>\n",
       "      <td>41202.112776</td>\n",
       "      <td>7.774489</td>\n",
       "    </tr>\n",
       "    <tr>\n",
       "      <th>min</th>\n",
       "      <td>5.855010e+05</td>\n",
       "      <td>82.300000</td>\n",
       "      <td>39665.000000</td>\n",
       "      <td>7.300000</td>\n",
       "      <td>-1.700000</td>\n",
       "      <td>2013.0</td>\n",
       "      <td>0.016667</td>\n",
       "      <td>5194.216667</td>\n",
       "      <td>5.623710</td>\n",
       "    </tr>\n",
       "    <tr>\n",
       "      <th>25%</th>\n",
       "      <td>1.683140e+06</td>\n",
       "      <td>85.000000</td>\n",
       "      <td>45047.000000</td>\n",
       "      <td>11.000000</td>\n",
       "      <td>1.200000</td>\n",
       "      <td>2013.0</td>\n",
       "      <td>737.283333</td>\n",
       "      <td>10988.000000</td>\n",
       "      <td>6.416751</td>\n",
       "    </tr>\n",
       "    <tr>\n",
       "      <th>50%</th>\n",
       "      <td>3.576452e+06</td>\n",
       "      <td>89.200000</td>\n",
       "      <td>49255.000000</td>\n",
       "      <td>13.300000</td>\n",
       "      <td>1.900000</td>\n",
       "      <td>2013.0</td>\n",
       "      <td>3918.100000</td>\n",
       "      <td>27197.283333</td>\n",
       "      <td>7.341108</td>\n",
       "    </tr>\n",
       "    <tr>\n",
       "      <th>75%</th>\n",
       "      <td>5.540545e+06</td>\n",
       "      <td>91.200000</td>\n",
       "      <td>60629.000000</td>\n",
       "      <td>17.100000</td>\n",
       "      <td>2.900000</td>\n",
       "      <td>2013.0</td>\n",
       "      <td>10764.716667</td>\n",
       "      <td>42952.883333</td>\n",
       "      <td>8.871405</td>\n",
       "    </tr>\n",
       "    <tr>\n",
       "      <th>max</th>\n",
       "      <td>1.280154e+07</td>\n",
       "      <td>92.800000</td>\n",
       "      <td>72515.000000</td>\n",
       "      <td>20.800000</td>\n",
       "      <td>4.900000</td>\n",
       "      <td>2013.0</td>\n",
       "      <td>178562.016667</td>\n",
       "      <td>202651.266667</td>\n",
       "      <td>45.673305</td>\n",
       "    </tr>\n",
       "  </tbody>\n",
       "</table>\n",
       "</div>"
      ],
      "text/plain": [
       "         population  hs_grad_percent  median_household_income  \\\n",
       "count  2.500000e+01        25.000000                25.000000   \n",
       "mean   4.189801e+06        88.404000             52644.960000   \n",
       "std    3.318593e+06         3.341217              9442.285292   \n",
       "min    5.855010e+05        82.300000             39665.000000   \n",
       "25%    1.683140e+06        85.000000             45047.000000   \n",
       "50%    3.576452e+06        89.200000             49255.000000   \n",
       "75%    5.540545e+06        91.200000             60629.000000   \n",
       "max    1.280154e+07        92.800000             72515.000000   \n",
       "\n",
       "       poverty_percent  employment_percent_change    year    num_permits  \\\n",
       "count        25.000000                  25.000000    25.0      25.000000   \n",
       "mean         14.000000                   1.924653  2013.0   15385.476667   \n",
       "std           3.711356                   1.310401     0.0   36630.817952   \n",
       "min           7.300000                  -1.700000  2013.0       0.016667   \n",
       "25%          11.000000                   1.200000  2013.0     737.283333   \n",
       "50%          13.300000                   1.900000  2013.0    3918.100000   \n",
       "75%          17.100000                   2.900000  2013.0   10764.716667   \n",
       "max          20.800000                   4.900000  2013.0  178562.016667   \n",
       "\n",
       "       total_gun_checks  checks_per_1000  \n",
       "count         25.000000        25.000000  \n",
       "mean       36652.758667         9.127886  \n",
       "std        41202.112776         7.774489  \n",
       "min         5194.216667         5.623710  \n",
       "25%        10988.000000         6.416751  \n",
       "50%        27197.283333         7.341108  \n",
       "75%        42952.883333         8.871405  \n",
       "max       202651.266667        45.673305  "
      ]
     },
     "execution_count": 50,
     "metadata": {},
     "output_type": "execute_result"
    }
   ],
   "source": [
    "# View statistical data for states with top 50% of firearm checks per 1000 residents.\n",
    "high_gun_checks.describe()"
   ]
  },
  {
   "cell_type": "code",
   "execution_count": 51,
   "metadata": {
    "scrolled": true
   },
   "outputs": [
    {
     "data": {
      "text/html": [
       "<div>\n",
       "<style scoped>\n",
       "    .dataframe tbody tr th:only-of-type {\n",
       "        vertical-align: middle;\n",
       "    }\n",
       "\n",
       "    .dataframe tbody tr th {\n",
       "        vertical-align: top;\n",
       "    }\n",
       "\n",
       "    .dataframe thead th {\n",
       "        text-align: right;\n",
       "    }\n",
       "</style>\n",
       "<table border=\"1\" class=\"dataframe\">\n",
       "  <thead>\n",
       "    <tr style=\"text-align: right;\">\n",
       "      <th></th>\n",
       "      <th>population</th>\n",
       "      <th>hs_grad_percent</th>\n",
       "      <th>median_household_income</th>\n",
       "      <th>poverty_percent</th>\n",
       "      <th>employment_percent_change</th>\n",
       "      <th>year</th>\n",
       "      <th>num_permits</th>\n",
       "      <th>total_gun_checks</th>\n",
       "      <th>checks_per_1000</th>\n",
       "    </tr>\n",
       "  </thead>\n",
       "  <tbody>\n",
       "    <tr>\n",
       "      <th>count</th>\n",
       "      <td>2.500000e+01</td>\n",
       "      <td>25.000000</td>\n",
       "      <td>25.000000</td>\n",
       "      <td>25.000000</td>\n",
       "      <td>25.00000</td>\n",
       "      <td>25.0</td>\n",
       "      <td>25.000000</td>\n",
       "      <td>25.000000</td>\n",
       "      <td>25.000000</td>\n",
       "    </tr>\n",
       "    <tr>\n",
       "      <th>mean</th>\n",
       "      <td>8.708053e+06</td>\n",
       "      <td>88.044000</td>\n",
       "      <td>55978.760000</td>\n",
       "      <td>13.036000</td>\n",
       "      <td>2.30800</td>\n",
       "      <td>2013.0</td>\n",
       "      <td>7245.640667</td>\n",
       "      <td>30389.108000</td>\n",
       "      <td>3.653523</td>\n",
       "    </tr>\n",
       "    <tr>\n",
       "      <th>std</th>\n",
       "      <td>9.290579e+06</td>\n",
       "      <td>2.873598</td>\n",
       "      <td>8281.303441</td>\n",
       "      <td>2.088037</td>\n",
       "      <td>1.08548</td>\n",
       "      <td>0.0</td>\n",
       "      <td>10353.357165</td>\n",
       "      <td>31968.541158</td>\n",
       "      <td>1.426646</td>\n",
       "    </tr>\n",
       "    <tr>\n",
       "      <th>min</th>\n",
       "      <td>6.245940e+05</td>\n",
       "      <td>81.800000</td>\n",
       "      <td>45483.000000</td>\n",
       "      <td>9.300000</td>\n",
       "      <td>0.90000</td>\n",
       "      <td>2013.0</td>\n",
       "      <td>0.000000</td>\n",
       "      <td>1299.900000</td>\n",
       "      <td>0.835772</td>\n",
       "    </tr>\n",
       "    <tr>\n",
       "      <th>25%</th>\n",
       "      <td>2.907289e+06</td>\n",
       "      <td>85.800000</td>\n",
       "      <td>49620.000000</td>\n",
       "      <td>11.700000</td>\n",
       "      <td>1.50000</td>\n",
       "      <td>2013.0</td>\n",
       "      <td>151.066667</td>\n",
       "      <td>7475.533333</td>\n",
       "      <td>2.820506</td>\n",
       "    </tr>\n",
       "    <tr>\n",
       "      <th>50%</th>\n",
       "      <td>6.016447e+06</td>\n",
       "      <td>88.600000</td>\n",
       "      <td>53183.000000</td>\n",
       "      <td>12.800000</td>\n",
       "      <td>2.20000</td>\n",
       "      <td>2013.0</td>\n",
       "      <td>3550.583333</td>\n",
       "      <td>21171.566667</td>\n",
       "      <td>3.838488</td>\n",
       "    </tr>\n",
       "    <tr>\n",
       "      <th>75%</th>\n",
       "      <td>1.014679e+07</td>\n",
       "      <td>90.200000</td>\n",
       "      <td>60509.000000</td>\n",
       "      <td>14.700000</td>\n",
       "      <td>3.20000</td>\n",
       "      <td>2013.0</td>\n",
       "      <td>9097.316667</td>\n",
       "      <td>36933.850000</td>\n",
       "      <td>4.482965</td>\n",
       "    </tr>\n",
       "    <tr>\n",
       "      <th>max</th>\n",
       "      <td>3.925002e+07</td>\n",
       "      <td>91.800000</td>\n",
       "      <td>74551.000000</td>\n",
       "      <td>16.400000</td>\n",
       "      <td>4.50000</td>\n",
       "      <td>2013.0</td>\n",
       "      <td>40797.966667</td>\n",
       "      <td>121084.250000</td>\n",
       "      <td>5.607978</td>\n",
       "    </tr>\n",
       "  </tbody>\n",
       "</table>\n",
       "</div>"
      ],
      "text/plain": [
       "         population  hs_grad_percent  median_household_income  \\\n",
       "count  2.500000e+01        25.000000                25.000000   \n",
       "mean   8.708053e+06        88.044000             55978.760000   \n",
       "std    9.290579e+06         2.873598              8281.303441   \n",
       "min    6.245940e+05        81.800000             45483.000000   \n",
       "25%    2.907289e+06        85.800000             49620.000000   \n",
       "50%    6.016447e+06        88.600000             53183.000000   \n",
       "75%    1.014679e+07        90.200000             60509.000000   \n",
       "max    3.925002e+07        91.800000             74551.000000   \n",
       "\n",
       "       poverty_percent  employment_percent_change    year   num_permits  \\\n",
       "count        25.000000                   25.00000    25.0     25.000000   \n",
       "mean         13.036000                    2.30800  2013.0   7245.640667   \n",
       "std           2.088037                    1.08548     0.0  10353.357165   \n",
       "min           9.300000                    0.90000  2013.0      0.000000   \n",
       "25%          11.700000                    1.50000  2013.0    151.066667   \n",
       "50%          12.800000                    2.20000  2013.0   3550.583333   \n",
       "75%          14.700000                    3.20000  2013.0   9097.316667   \n",
       "max          16.400000                    4.50000  2013.0  40797.966667   \n",
       "\n",
       "       total_gun_checks  checks_per_1000  \n",
       "count         25.000000        25.000000  \n",
       "mean       30389.108000         3.653523  \n",
       "std        31968.541158         1.426646  \n",
       "min         1299.900000         0.835772  \n",
       "25%         7475.533333         2.820506  \n",
       "50%        21171.566667         3.838488  \n",
       "75%        36933.850000         4.482965  \n",
       "max       121084.250000         5.607978  "
      ]
     },
     "execution_count": 51,
     "metadata": {},
     "output_type": "execute_result"
    }
   ],
   "source": [
    "# View statistical data for states with bottom 50% of firearm checks per 1000 residents.\n",
    "low_gun_checks.describe()"
   ]
  },
  {
   "cell_type": "markdown",
   "metadata": {},
   "source": [
    "### Initial Conclusions\n",
    "\n",
    "The median high school graduation percentage and median household income is lower for states with high rates of firearm checks per 1000 residents. They are not significantly different and even less so when comparing the means. However, the standard deviation for both graduation percentage and income are larger for the states with high rates of firearm checks per 1000 residents. This indicates a larger spread and therefore larger variation in both variables in states with high rates of firearm checks per 1000 residents as compared to the states with low checks.\n",
    "\n",
    "Additionally, the median and mean poverty percent are both higher for the states with high levels of gun checks by approximately one percentage point. The standard deviation is almost twice as large in the states with high levels of gun checks, again indicating a larger variation in poverty percent.\n",
    "\n",
    "Therefore, higher rates of firearm checks correlate to slightly higher rates of poverty and slight lower incomes and high school graduation percentages. States with higher rates of firearm checks tend to also have a greater variability in median socio-economic status as determined by income and high school diplomas. "
   ]
  },
  {
   "cell_type": "code",
   "execution_count": 52,
   "metadata": {},
   "outputs": [],
   "source": [
    "# Find median graduation rate for states with high vs. low numbers of firearm checks.\n",
    "median_grad_low = low_gun_checks['hs_grad_percent'].median()\n",
    "median_grad_high = high_gun_checks['hs_grad_percent'].median()"
   ]
  },
  {
   "cell_type": "code",
   "execution_count": 53,
   "metadata": {},
   "outputs": [
    {
     "data": {
      "image/png": "[encoded data removed]",
      "text/plain": [
       "<Figure size 432x288 with 1 Axes>"
      ]
     },
     "metadata": {
      "needs_background": "light"
     },
     "output_type": "display_data"
    }
   ],
   "source": [
    "# Visualize difference in median graduation rates.\n",
    "locations = [1, 2]\n",
    "heights = [median_grad_low, median_grad_high]\n",
    "labels = ['Low', 'High']\n",
    "plt.bar(locations, heights, tick_label=labels)\n",
    "plt.title('Percentage of High Schools Graduates (Age 25+) \\n in States with Low vs. High Firearm Background Checks')\n",
    "plt.xlabel('Number of Firearm Checks per 1000 Residents')\n",
    "plt.ylabel('Median Percent of HS Graduates \\n (Age 25+)');"
   ]
  },
  {
   "cell_type": "code",
   "execution_count": 54,
   "metadata": {},
   "outputs": [],
   "source": [
    "# Find median household income for states with high vs. low numbers of firearm checks.\n",
    "median_income_low = low_gun_checks['median_household_income'].median()\n",
    "median_income_high = high_gun_checks['median_household_income'].median()"
   ]
  },
  {
   "cell_type": "code",
   "execution_count": 55,
   "metadata": {},
   "outputs": [
    {
     "data": {
      "image/png": "[encoded data removed]",
      "text/plain": [
       "<Figure size 432x288 with 1 Axes>"
      ]
     },
     "metadata": {
      "needs_background": "light"
     },
     "output_type": "display_data"
    }
   ],
   "source": [
    "# Visualize difference in median household income for states with high vs. low number of firearm checks per 1000 residents.\n",
    "locations = [1, 2]\n",
    "heights = [median_income_low, median_income_high]\n",
    "labels = ['Low', 'High']\n",
    "plt.bar(locations, heights, tick_label=labels)\n",
    "plt.title('Median Household Income in States with Low vs. High Firearm Background Checks')\n",
    "plt.xlabel('Number of Firearm Checks per 1000 Residents')\n",
    "plt.ylabel('Median Household Income(in 2015 dollars)');"
   ]
  },
  {
   "cell_type": "code",
   "execution_count": 56,
   "metadata": {},
   "outputs": [
    {
     "data": {
      "image/png": "[encoded data removed]",
      "text/plain": [
       "<Figure size 432x288 with 1 Axes>"
      ]
     },
     "metadata": {
      "needs_background": "light"
     },
     "output_type": "display_data"
    }
   ],
   "source": [
    "# Visualize relationship between median household income and firearm checks per 1000 residents.\n",
    "plt.scatter(df['checks_per_1000'], df['median_household_income'])\n",
    "plt.title('Total Permit Checks vs.  Median Household Income \\n in States (2011-2015)')\n",
    "plt.xlabel('Total Firearm Checks \\n per 1000 Residents')\n",
    "plt.ylabel('Median Household Income \\n (in 2015 dollars)');"
   ]
  },
  {
   "cell_type": "markdown",
   "metadata": {},
   "source": [
    "### Initial Conclusions\n",
    "There does not appear to be any correlation between the number of firearm checks in a state and the median household income. The majority of states fall between 0 and 10 checks per 1000 residents, and those states are equally represented in the full range of median household income. The only notable exception is the outlier state, which has signficantly more firearm checks and a median household income below the mean for all states. However, as this is only one sample, we cannot draw any conclusions from this."
   ]
  },
  {
   "cell_type": "code",
   "execution_count": 57,
   "metadata": {},
   "outputs": [],
   "source": [
    "# Find mean employment change (2014-2015) for states with high vs. low numbers of firearm checks.\n",
    "mean_empl_change_low = low_gun_checks['employment_percent_change'].mean()\n",
    "mean_empl_change_high = high_gun_checks['employment_percent_change'].mean()"
   ]
  },
  {
   "cell_type": "code",
   "execution_count": 58,
   "metadata": {},
   "outputs": [
    {
     "data": {
      "image/png": "[encoded data removed]",
      "text/plain": [
       "<Figure size 432x288 with 1 Axes>"
      ]
     },
     "metadata": {
      "needs_background": "light"
     },
     "output_type": "display_data"
    }
   ],
   "source": [
    "# Visualize difference in mean employment change.\n",
    "locations = [1, 2]\n",
    "heights = [mean_empl_change_low, mean_empl_change_high]\n",
    "labels = ['Low', 'High']\n",
    "plt.bar(locations, heights, tick_label=labels)\n",
    "plt.title('Mean Employment Percent Change (2014-2015) \\n in States with Low vs. High Firearm Background Checks')\n",
    "plt.xlabel('Number of Firearm Checks per 1000 Residents')\n",
    "plt.ylabel('Mean Employment Percent Change \\n (2014-2015)');"
   ]
  },
  {
   "cell_type": "code",
   "execution_count": 59,
   "metadata": {},
   "outputs": [
    {
     "data": {
      "image/png": "[encoded data removed]",
      "text/plain": [
       "<Figure size 432x288 with 1 Axes>"
      ]
     },
     "metadata": {
      "needs_background": "light"
     },
     "output_type": "display_data"
    }
   ],
   "source": [
    "# Visualize relationship between percent change in employment and firearm checks per 1000 residents.\n",
    "plt.scatter(df['checks_per_1000'], df['employment_percent_change'])\n",
    "plt.title('Total Permit Checks vs. Percent of Population in Poverty \\n in States (2011-2015)')\n",
    "plt.xlabel('Total Firearm Checks \\n per 1000 Residents')\n",
    "plt.ylabel('Employment Percent Change \\n (2014-2015)');"
   ]
  },
  {
   "cell_type": "code",
   "execution_count": 60,
   "metadata": {},
   "outputs": [
    {
     "data": {
      "image/png": "[encoded data removed]",
      "text/plain": [
       "<Figure size 432x288 with 1 Axes>"
      ]
     },
     "metadata": {
      "needs_background": "light"
     },
     "output_type": "display_data"
    }
   ],
   "source": [
    "# Visualize relationship between percent change in employment and firearm checks per 1000 residents.\n",
    "plt.scatter(df['checks_per_1000'], df['employment_percent_change'])\n",
    "plt.title('Total Permit Checks vs. Percent of Population in Poverty \\n in States (2011-2015)')\n",
    "plt.xlabel('Total Firearm Checks \\n per 1000 Residents')\n",
    "plt.ylabel('Employment Percent Change \\n (2014-2015)')\n",
    "\n",
    "# Set a range for the x-axis. Outlier is discluded.\n",
    "plt.xlim(0,15);"
   ]
  },
  {
   "cell_type": "markdown",
   "metadata": {},
   "source": [
    "### Conclusion\n",
    "Despite what appears to be a noticable variation in the change in unemployment percent, with a clearly smaller growth in employment on average for states with higher numbers of firearm checks per 1000 residents, the scatterplot shows us that this variation is due to a small number of outliers. For the majority of states, unemployment grew between 1 and 5 percentage points no matter the amount of firearm checks per 1000. This is even clearer in the second scatterplot, in which the firearm checks outlier is discluded."
   ]
  },
  {
   "cell_type": "markdown",
   "metadata": {},
   "source": [
    "<a id='conclusions'></a>\n",
    "## Conclusions\n",
    "> When drawing conclusions on this data, it is important to remember that we do not have data for the number of firearms purchased or the number of firearms owned in the states. We are using only the number of firearm checks and number of permit checks through the FBI's NICS. There is also the concern that different states have different laws requiring firearm checks and that not all firearm sales are done legally. Therefore, we are limited to only having a general idea on the demand for firearms.\n",
    "> Additionally, our conclusions are based on data from 2011 to 2015 and therefore are limited to that time range. This range could be influenced by unrelated conditions that effect the demand for firearms in some unexpected way.\n",
    "\n",
    "####  How does poverty correlate to the number of firearm checks in a state? \n",
    "\n",
    "> To answer this question, I split the data into states with high or low poverty levels. The high poverty levels includes all states with poverty percentage above or including the median poverty percentage for all states. The low poverty level includes all states with poverty percentage below the median poverty percentage for all states.\n",
    "\n",
    "> Comparing the median number of firearm checks per 1000 residents to poverty level does not indicate any strong correlation. This can be seen via the table of data generated by the 'describe' function on the states with high vs. low poverty level, as well as a bar graph of the median firearm checks. Interestingly, the median number of permit checks per 1000 residents is  higher for the states with low poverty, as seen in the bar chart \"Number of Total Permit Checks per 1000 Residents in States with High vs. Low Poverty.\" \n",
    "\n",
    "\n",
    "> For both firearm checks and permit checks, Kentucky is a significant outlier with mean value of 45.673305 firearm checks per 1000 residents compared to a mean of 6.390704 and median of 5.615844. Because of this, I have used the median for all measures of center involving both firearm and permit checks. \n",
    "\n",
    "> The standard deviation for both firearm checks per 1000 residents is much higher in the states with high poverty, indicating a larger spread of data. However, this is being influenced by the outlier, Kentucky, so no definitive conclusions can be drawn.\n",
    "\n",
    "> In conclusion, I have found no significant correlation between poverty level and the number of firearm checks in a state. There is an interesting correlation with with permit checks in which states with lower poverty tended to have higher numbers of permit checks during the 2011-2015 time period.\n",
    "\n",
    "#### What economic commonalities do states with higher levels of firearm checks share?\n",
    "> To explore the commonalities between states with higher levels of firearm checks, I first used a histogram to visualzie the number of firearm checks per 1000 residents and noticed that the data is skewed right due to an outlier. Therefore, I split the data into high and low levels of firearms checks at the median number of firearm checks per state as the mean would be pulled higher due to the outlier. \n",
    "\n",
    "> To see the commonalities of states with higher levels of firearm checks on average, I created one dataframe with all states with firearm checks above or equal to the median value. I also created a dataframe with all states with firearm checks below the median value in order to compare with the 'high_gun_checks' data.\n",
    "\n",
    "> There is no  correlation between high school graduation rates and the level of firearm checks per 1000 residents. States with low levels of firearm checks had a slightly higher median household income and a higher employment percent change between 2011 and 2015. However, for both high school graduation and median income, the standard deviation is higher for the states with high levels of firearm checks. This indicates a larger spread of the data within the states with high levels of firearm checks."
   ]
  },
  {
   "cell_type": "markdown",
   "metadata": {},
   "source": [
    "#### Overall Conclusion\n",
    "\n",
    "> The amount of firearm checks in a state does not seem to be correlated with any socio-economic conditions in the state overall. "
   ]
  },
  {
   "cell_type": "markdown",
   "metadata": {},
   "source": [
    "### References\n",
    "\n",
    "> FBI National Instant Criminal Background Check System (NICS) https://www.fbi.gov/services/cjis/nics\n",
    "\n",
    "> US Census Bureau https://www.census.gov/topics/income-poverty/poverty.html\n",
    "\n",
    "> Pandas Documentation https://pandas.pydata.org/docs/reference/\n",
    "\n",
    "> Matplotlib Documentation https://matplotlib.org/stable/api/pyplot_summary.html\n",
    "\n",
    "> Extract integer from string https://stackoverflow.com/questions/35376387/extract-int-from-string-in-pandas\n",
    "\n"
   ]
  },
  {
   "cell_type": "code",
   "execution_count": null,
   "metadata": {},
   "outputs": [],
   "source": []
  }
 ],
 "metadata": {
  "kernelspec": {
   "display_name": "Python 3 (ipykernel)",
   "language": "python",
   "name": "python3"
  },
  "language_info": {
   "codemirror_mode": {
    "name": "ipython",
    "version": 3
   },
   "file_extension": ".py",
   "mimetype": "text/x-python",
   "name": "python",
   "nbconvert_exporter": "python",
   "pygments_lexer": "ipython3",
   "version": "3.8.12"
  }
 },
 "nbformat": 4,
 "nbformat_minor": 2
}
